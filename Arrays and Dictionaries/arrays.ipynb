{
 "cells": [
  {
   "cell_type": "code",
   "execution_count": 8,
   "metadata": {
    "dotnet_interactive": {
     "language": "pwsh"
    },
    "polyglot_notebook": {
     "kernelName": "pwsh"
    },
    "vscode": {
     "languageId": "polyglot-notebook"
    }
   },
   "outputs": [
    {
     "name": "stdout",
     "output_type": "stream",
     "text": [
      "john\n",
      "jacob\n",
      "jingle\n",
      "hymer\n",
      "schmitt\n",
      "john\n",
      "jacob\n",
      "jingle\n",
      "hymer\n",
      "schmitt\n"
     ]
    }
   ],
   "source": [
    "# Method 1 - not using arrays\n",
    "$Username1 = \"john\"\n",
    "$Username2 = \"jacob\"\n",
    "$Username3 = \"jingle\"\n",
    "$Username4 = \"hymer\"\n",
    "$Username5 = \"schmitt\"\n",
    "\n",
    "Write-Host $Username1\n",
    "Write-Host $Username2\n",
    "Write-Host $Username3\n",
    "Write-Host $Username4\n",
    "Write-Host $Username5\n",
    "\n",
    "# can this be done in a loop?\n",
    "for ($i=1; $i -le 5; $i++) {\n",
    "    Write-Host (IEX \"`$Username$i\")\n",
    "}\n"
   ]
  },
  {
   "cell_type": "code",
   "execution_count": 14,
   "metadata": {
    "dotnet_interactive": {
     "language": "pwsh"
    },
    "polyglot_notebook": {
     "kernelName": "pwsh"
    },
    "vscode": {
     "languageId": "polyglot-notebook"
    }
   },
   "outputs": [
    {
     "name": "stdout",
     "output_type": "stream",
     "text": [
      "john\n",
      "jacob\n",
      "jingle\n",
      "hymer\n",
      "schmitt\n",
      "john\n",
      "jacob\n",
      "jingle\n",
      "hymer\n",
      "schmitt\n",
      "john\n",
      "jacob\n",
      "jingle\n",
      "hymer\n",
      "schmitt\n"
     ]
    }
   ],
   "source": [
    "# Method 2 - using an array\n",
    "$Usernames = \"john\", \"jacob\", \"jingle\", \"hymer\", \"schmitt\"\n",
    "\n",
    "#Write-Host $Usernames\n",
    "#$Usernames\n",
    "\n",
    "# can this be done in a loop?\n",
    "for ($i=0; $i -lt 5; $i++) {\n",
    "    Write-Host $Usernames[$i]\n",
    "}\n",
    "for ($i=0; $i -lt $Usernames.Length; $i++) {\n",
    "    Write-Host $Usernames[$i]\n",
    "}\n",
    "foreach ($Username in $Usernames) {\n",
    "    Write-Host $Username\n",
    "}"
   ]
  },
  {
   "cell_type": "code",
   "execution_count": 18,
   "metadata": {
    "dotnet_interactive": {
     "language": "pwsh"
    },
    "polyglot_notebook": {
     "kernelName": "pwsh"
    },
    "vscode": {
     "languageId": "polyglot-notebook"
    }
   },
   "outputs": [
    {
     "name": "stdout",
     "output_type": "stream",
     "text": [
      "56067150\n",
      "48719787\n",
      "48719787\n"
     ]
    }
   ],
   "source": [
    "# immutable vs mutable\n",
    "$Usernames = \"john\", \"jacob\", \"jingle\", \"hymer\", \"schmitt\"\n",
    "$Usernames.GetHashCode()\n",
    "$Usernames = \"john\", \"jacob\", \"jingle\", \"hymer\", \"schmitt\"\n",
    "$Usernames.GetHashCode()\n",
    "$Usernames[0] = \"jake\"\n",
    "$Usernames.GetHashCode()"
   ]
  },
  {
   "cell_type": "code",
   "execution_count": 19,
   "metadata": {
    "dotnet_interactive": {
     "language": "pwsh"
    },
    "polyglot_notebook": {
     "kernelName": "pwsh"
    },
    "vscode": {
     "languageId": "polyglot-notebook"
    }
   },
   "outputs": [
    {
     "name": "stdout",
     "output_type": "stream",
     "text": [
      "john jacob jingle hymer schmitt\n",
      "john jacob jingle hymer schmitt jill\n"
     ]
    }
   ],
   "source": [
    "# add item to array\n",
    "$Usernames = \"john\", \"jacob\", \"jingle\", \"hymer\", \"schmitt\"\n",
    "Write-Host $Usernames\n",
    "$Usernames += \"jill\"\n",
    "Write-Host $Usernames\n"
   ]
  },
  {
   "cell_type": "code",
   "execution_count": 32,
   "metadata": {
    "dotnet_interactive": {
     "language": "pwsh"
    },
    "polyglot_notebook": {
     "kernelName": "pwsh"
    },
    "vscode": {
     "languageId": "polyglot-notebook"
    }
   },
   "outputs": [
    {
     "name": "stdout",
     "output_type": "stream",
     "text": [
      "1 2 3 4 5\n",
      "\"\"\n",
      "a b c d\n",
      "cat\n",
      "String\n",
      "Object[]\n",
      "1 2 3 4 5 6 7 8 9 10\n",
      "cat dog\n",
      "1 2 3 4 5 10 11 12 13 14 15 20\n",
      "Object[]\n",
      "bobble 123 3.1415 head\n"
     ]
    }
   ],
   "source": [
    "# creating arrays\n",
    "$Numbers = 1, 2, 3, 4, 5\n",
    "Write-Host $Numbers\n",
    "$EmptyArray = @()\n",
    "Write-Host \"`\"$EmptyArray`\"\"\n",
    "$OldMethod = @(\"a\",\"b\",\"c\",\"d\")\n",
    "Write-Host $OldMethod\n",
    "$ArrayWithOneItem = @(\"cat\")\n",
    "Write-Host $ArrayWithOneItem\n",
    "$NotAnArray = \"cat\"\n",
    "$NotAnArray.GetType().Name\n",
    "$WeirdArray = , \"dog\"\n",
    "$WeirdArray.GetType().Name\n",
    "$NumberArray = 1..10\n",
    "Write-Host $NumberArray\n",
    "$NewArray = $ArrayWithOneItem + $WeirdArray\n",
    "Write-Host $NewArray\n",
    "$MoreNumbers = 1..5 + 10..15 + 20\n",
    "Write-Host $MoreNumbers\n",
    "$MoreNumbers.GetType().Name\n",
    "$Things = \"bobble\", 123, 3.1415, \"head\"\n",
    "Write-Host $Things"
   ]
  },
  {
   "cell_type": "code",
   "execution_count": 37,
   "metadata": {
    "dotnet_interactive": {
     "language": "pwsh"
    },
    "polyglot_notebook": {
     "kernelName": "pwsh"
    },
    "vscode": {
     "languageId": "polyglot-notebook"
    }
   },
   "outputs": [
    {
     "name": "stdout",
     "output_type": "stream",
     "text": [
      "Int32[]\n",
      "15\n"
     ]
    }
   ],
   "source": [
    "# change array data type\n",
    "[int[]]$Numbers = 1, 2, 3, 4, 5\n",
    "$Numbers.GetType().Name\n",
    "$Sum = 0\n",
    "foreach ($Num in $Numbers) {\n",
    "    $Sum += $Num\n",
    "}\n",
    "$Sum"
   ]
  },
  {
   "cell_type": "code",
   "execution_count": 48,
   "metadata": {
    "dotnet_interactive": {
     "language": "pwsh"
    },
    "polyglot_notebook": {
     "kernelName": "pwsh"
    },
    "vscode": {
     "languageId": "polyglot-notebook"
    }
   },
   "outputs": [
    {
     "name": "stdout",
     "output_type": "stream",
     "text": [
      "santa\n",
      "True\n",
      "santa\n",
      "batman robin\n",
      "batman tinkerbell santa robin\n",
      "robin santa tinkerbell batman\n",
      "batman robin tinkerbell santa\n"
     ]
    }
   ],
   "source": [
    "# accessing elements in an array\n",
    "$Costumes = \"batman\", \"robin\", \"santa\", \"tinkerbell\"\n",
    "$Costumes[2]\n",
    "$NullValue = $Costumes[4]\n",
    "$NullValue -eq $null\n",
    "$Costumes[-2]\n",
    "Write-Host $Costumes[0..1]\n",
    "Write-Host $Costumes[0..-3]\n",
    "Write-Host $Costumes[-3..0]\n",
    "Write-Host $Costumes[0..1 + 3 + 2]\n"
   ]
  },
  {
   "cell_type": "code",
   "execution_count": 58,
   "metadata": {
    "dotnet_interactive": {
     "language": "pwsh"
    },
    "polyglot_notebook": {
     "kernelName": "pwsh"
    },
    "vscode": {
     "languageId": "polyglot-notebook"
    }
   },
   "outputs": [
    {
     "name": "stdout",
     "output_type": "stream",
     "text": [
      "Object[]\n",
      "ai\n",
      "ai\n",
      "ApplicationFrameHost\n",
      "audiodg\n",
      "Code\n",
      "Code\n",
      "Code\n",
      "Code\n",
      "Code\n",
      "Code\n",
      "Code\n",
      "Code\n",
      "Code\n",
      "Code\n",
      "Code\n",
      "Code\n",
      "conhost\n",
      "conhost\n",
      "conhost\n",
      "csrss\n",
      "csrss\n",
      "ctfmon\n",
      "DDVCollectorSvcApi\n",
      "DDVDataCollector\n",
      "DDVRulesProcessor\n",
      "Dell.Insights.Agent\n",
      "Dell.Remediation.Agent\n",
      "dllhost\n",
      "dllhost\n",
      "dllhost\n",
      "dllhost\n",
      "dotnet\n",
      "dotnet\n",
      "dotnet\n",
      "dotnet\n",
      "dotnet\n",
      "dotnet\n",
      "Dsapi\n",
      "dwm\n",
      "explorer\n",
      "fontdrvhost\n",
      "fontdrvhost\n",
      "Idle\n",
      "igfxCUIService\n",
      "igfxEM\n",
      "IntelCpHDCPSvc\n",
      "IntelCpHeciSvc\n",
      "jhi_service\n",
      "LsaIso\n",
      "lsass\n",
      "MakeMeAdminService\n",
      "Memory Compression\n",
      "Microsoft.Management.Services.IntuneWindowsAgent\n",
      "msdtc\n",
      "msedge\n",
      "msedge\n",
      "msedge\n",
      "msedge\n",
      "msedge\n",
      "msedge\n",
      "msedge\n",
      "msedge\n",
      "msedge\n",
      "msedge\n",
      "msedge\n",
      "msedge\n",
      "MsMpEng\n",
      "NisSrv\n",
      "NVDisplay.Container\n",
      "NVDisplay.Container\n",
      "OfficeClickToRun\n",
      "OneApp.IGCC.WinService\n",
      "ONENOTE\n",
      "ONENOTEM\n",
      "OpenConsole\n",
      "pwsh\n",
      "Registry\n",
      "RstMwService\n",
      "RtkAudUService64\n",
      "RtkAudUService64\n",
      "RtkAudUService64\n",
      "RuntimeBroker\n",
      "RuntimeBroker\n",
      "RuntimeBroker\n",
      "RuntimeBroker\n",
      "SearchApp\n",
      "SearchFilterHost\n",
      "SearchIndexer\n",
      "SearchProtocolHost\n",
      "Secure System\n",
      "SecurityHealthService\n",
      "SecurityHealthSystray\n",
      "services\n",
      "ServiceShell\n",
      "SgrmBroker\n",
      "sihost\n",
      "smss\n",
      "spoolsv\n",
      "StartMenuExperienceHost\n",
      "SupportAssistAgent\n",
      "svchost\n",
      "svchost\n",
      "svchost\n",
      "svchost\n",
      "svchost\n",
      "svchost\n",
      "svchost\n",
      "svchost\n",
      "svchost\n",
      "svchost\n",
      "svchost\n",
      "svchost\n",
      "svchost\n",
      "svchost\n",
      "svchost\n",
      "svchost\n",
      "svchost\n",
      "svchost\n",
      "svchost\n",
      "svchost\n",
      "svchost\n",
      "svchost\n",
      "svchost\n",
      "svchost\n",
      "svchost\n",
      "svchost\n",
      "svchost\n",
      "svchost\n",
      "svchost\n",
      "svchost\n",
      "svchost\n",
      "svchost\n",
      "svchost\n",
      "svchost\n",
      "svchost\n",
      "svchost\n",
      "svchost\n",
      "svchost\n",
      "svchost\n",
      "svchost\n",
      "svchost\n",
      "svchost\n",
      "svchost\n",
      "svchost\n",
      "svchost\n",
      "svchost\n",
      "svchost\n",
      "svchost\n",
      "svchost\n",
      "svchost\n",
      "svchost\n",
      "svchost\n",
      "svchost\n",
      "svchost\n",
      "svchost\n",
      "svchost\n",
      "svchost\n",
      "svchost\n",
      "svchost\n",
      "svchost\n",
      "svchost\n",
      "svchost\n",
      "svchost\n",
      "svchost\n",
      "svchost\n",
      "svchost\n",
      "svchost\n",
      "svchost\n",
      "svchost\n",
      "svchost\n",
      "svchost\n",
      "svchost\n",
      "svchost\n",
      "svchost\n",
      "svchost\n",
      "svchost\n",
      "svchost\n",
      "svchost\n",
      "svchost\n",
      "svchost\n",
      "svchost\n",
      "System\n",
      "SystemSettings\n",
      "taskhostw\n",
      "Teams\n",
      "Teams\n",
      "Teams\n",
      "Teams\n",
      "Teams\n",
      "Teams\n",
      "Teams\n",
      "Teams\n",
      "Teams\n",
      "Teams\n",
      "TextInputHost\n",
      "uhssvc\n",
      "unsecapp\n",
      "UserOOBEBroker\n",
      "vmcompute\n",
      "vmmem\n",
      "vmnat\n",
      "vmnetdhcp\n",
      "vmware-authd\n",
      "vmware-tray\n",
      "vmware-usbarbitrator64\n",
      "WavesSvc64\n",
      "WavesSysSvc64\n",
      "WindowsTerminal\n",
      "wininit\n",
      "winlogon\n",
      "WmiPrvSE\n",
      "WmiPrvSE\n",
      "WMIRegistrationService\n",
      "WUDFHost\n",
      "WUDFHost\n"
     ]
    }
   ],
   "source": [
    "# pipeline\n",
    "$Processes = Get-Process\n",
    "$Processes.GetType().Name\n",
    "$Processes[0].ProcessName\n",
    "# foreach ($Process in $Processes) {\n",
    "#     Write-Host $Process.ProcessName\n",
    "# }\n",
    "#$Processes | ForEach-Object { Write-Host $_.ProcessName }\n",
    "# $Processes | % { $_.ProcessName }\n",
    "$Processes.ForEach({ $_.ProcessName })"
   ]
  },
  {
   "cell_type": "code",
   "execution_count": 1,
   "metadata": {
    "dotnet_interactive": {
     "language": "pwsh"
    },
    "polyglot_notebook": {
     "kernelName": "pwsh"
    },
    "vscode": {
     "languageId": "polyglot-notebook"
    }
   },
   "outputs": [
    {
     "name": "stdout",
     "output_type": "stream",
     "text": [
      "1 2 3 4 5\n",
      "1 2 3 4\n",
      "1 4\n",
      "2 3 4\n",
      "1 2 4\n"
     ]
    }
   ],
   "source": [
    "# removing items\n",
    "$Numbers = 1, 2, 3, 4, 5\n",
    "Write-Host $Numbers\n",
    "$Numbers = $Numbers[0..($Numbers.Length-2)]\n",
    "Write-Host $Numbers\n",
    "Write-Host $Numbers[0..-1] # doesn't work as you might think\n",
    "Write-Host $Numbers[1..($Numbers.Length-1)]\n",
    "Write-Host $Numbers[0,1+3..($Numbers.Length-1)]"
   ]
  },
  {
   "cell_type": "code",
   "execution_count": 8,
   "metadata": {
    "dotnet_interactive": {
     "language": "pwsh"
    },
    "polyglot_notebook": {
     "kernelName": "pwsh"
    },
    "vscode": {
     "languageId": "polyglot-notebook"
    }
   },
   "outputs": [
    {
     "name": "stdout",
     "output_type": "stream",
     "text": [
      "X   O\n",
      "---\n",
      "X O  \n",
      "---\n",
      "  O X\n",
      "---\n"
     ]
    }
   ],
   "source": [
    "# arrays in arrays (multidimensional arrays)\n",
    "$TicTacToe = @(\n",
    "    @('X',' ','O'),\n",
    "    @('X','O',' '),\n",
    "    @(' ','O','X')\n",
    ")\n",
    "for ($r=0; $r -lt $TicTacToe.Length; $r++) {\n",
    "    Write-Host $TicTacToe[$r]\n",
    "    Write-Host (\"-\" * 3)\n",
    "}"
   ]
  },
  {
   "cell_type": "code",
   "execution_count": 9,
   "metadata": {
    "dotnet_interactive": {
     "language": "pwsh"
    },
    "polyglot_notebook": {
     "kernelName": "pwsh"
    },
    "vscode": {
     "languageId": "polyglot-notebook"
    }
   },
   "outputs": [
    {
     "name": "stdout",
     "output_type": "stream",
     "text": [
      "John\n",
      "123 Somewhere St\n",
      "W123456\n",
      "John\n",
      "123 Somewhere St\n",
      "W123456\n",
      "902-555-1212\n"
     ]
    }
   ],
   "source": [
    "# array destructuring\n",
    "$Things = \"John\", \"123 Somewhere St\", \"W123456\", \"902-555-1212\"\n",
    "$Things[0]\n",
    "$Things[1]\n",
    "$Things[2]\n",
    "\n",
    "$Name, $Address, $EmployeeNo, $PhoneNo = $Things\n",
    "$Name\n",
    "$Address\n",
    "$EmployeeNo\n",
    "$PhoneNo"
   ]
  },
  {
   "cell_type": "code",
   "execution_count": 10,
   "metadata": {
    "dotnet_interactive": {
     "language": "pwsh"
    },
    "polyglot_notebook": {
     "kernelName": "pwsh"
    },
    "vscode": {
     "languageId": "polyglot-notebook"
    }
   },
   "outputs": [
    {
     "name": "stdout",
     "output_type": "stream",
     "text": [
      "John\n",
      "123 Somewhere St\n",
      "W123456\n",
      "902-555-1212\n"
     ]
    }
   ],
   "source": [
    "# array structuring\n",
    "$Info = $Name, $Address, $EmployeeNo, $PhoneNo\n",
    "$Info"
   ]
  },
  {
   "cell_type": "code",
   "execution_count": 19,
   "metadata": {
    "dotnet_interactive": {
     "language": "pwsh"
    },
    "polyglot_notebook": {
     "kernelName": "pwsh"
    },
    "vscode": {
     "languageId": "polyglot-notebook"
    }
   },
   "outputs": [
    {
     "name": "stdout",
     "output_type": "stream",
     "text": [
      "\n",
      "    Directory: C:\\Users\\W0111036\n",
      "\n",
      "\u001b[32;1mMode                 LastWriteTime         Length Name\u001b[0m\n",
      "\u001b[32;1m----                 -------------         ------ ----\u001b[0m\n",
      "d----          10/23/2023  1:28 PM                \u001b[44;1m.dotnet\u001b[0m\n",
      "-a---           9/27/2023  9:34 AM             54 .gitconfig\n",
      "****************************************************************************************************\n",
      "-a---           9/27/2023  9:34 AM             54 .gitconfig\n",
      "d----          10/23/2023  1:28 PM                \u001b[44;1m.dotnet\u001b[0m\n",
      "****************************************************************************************************\n",
      "d----          10/23/2023  1:28 PM                \u001b[44;1m.dotnet\u001b[0m\n",
      "-a---           9/27/2023  9:34 AM             54 .gitconfig\n",
      "\n"
     ]
    }
   ],
   "source": [
    "# reverse the order of an array\n",
    "$HomeFolder = (Get-ChildItem $HOME)\n",
    "$HomeFolder[0]\n",
    "$HomeFolder[$HomeFolder.Length-1]\n",
    "\"*\" * 100\n",
    "$HomeFolder = $HomeFolder[-1..-($HomeFolder.Length)]\n",
    "$HomeFolder[0]\n",
    "$HomeFolder[$HomeFolder.Length-1]\n",
    "\"*\" * 100\n",
    "[Array]::Reverse($HomeFolder)\n",
    "$HomeFolder[0]\n",
    "$HomeFolder[$HomeFolder.Length-1]\n"
   ]
  },
  {
   "cell_type": "code",
   "execution_count": 29,
   "metadata": {
    "dotnet_interactive": {
     "language": "pwsh"
    },
    "polyglot_notebook": {
     "kernelName": "pwsh"
    },
    "vscode": {
     "languageId": "polyglot-notebook"
    }
   },
   "outputs": [
    {
     "name": "stdout",
     "output_type": "stream",
     "text": [
      "String\n",
      "a\n",
      "Char\n",
      "a p p\n",
      "Char[]\n"
     ]
    }
   ],
   "source": [
    "# access strings like arrays\n",
    "$Str = \"apple\"\n",
    "$Str.GetType().Name\n",
    "$Str[0]\n",
    "$Str[0].GetType().Name\n",
    "Write-Host $Str[0..2]\n",
    "Write-Host ([Char[]]$Str[0..2]).GetType().Name\n"
   ]
  },
  {
   "cell_type": "code",
   "execution_count": 40,
   "metadata": {
    "dotnet_interactive": {
     "language": "pwsh"
    },
    "polyglot_notebook": {
     "kernelName": "pwsh"
    },
    "vscode": {
     "languageId": "polyglot-notebook"
    }
   },
   "outputs": [
    {
     "name": "stdout",
     "output_type": "stream",
     "text": [
      "h|e|l|l|o\n",
      "String\n",
      "hello\n",
      "h e l l o\n"
     ]
    }
   ],
   "source": [
    "# joining arrays of characters into strings\n",
    "$Hello = \"hello world\"\n",
    "$Str = ($Hello[0..4] -join '|')\n",
    "$Str\n",
    "$Str.GetType().Name\n",
    "$Str = $Hello[0..4]\n",
    "[String]::Join('', $Str)\n",
    "$Str = $Hello[0..4]\n",
    "[string]$Str"
   ]
  },
  {
   "cell_type": "code",
   "execution_count": 43,
   "metadata": {
    "dotnet_interactive": {
     "language": "pwsh"
    },
    "polyglot_notebook": {
     "kernelName": "pwsh"
    },
    "vscode": {
     "languageId": "polyglot-notebook"
    }
   },
   "outputs": [
    {
     "name": "stdout",
     "output_type": "stream",
     "text": [
      "H e l l o   W o r l d\n",
      "H e l l o   W o r l d\n",
      "Hello\n",
      "World\n"
     ]
    }
   ],
   "source": [
    "# convert strings to arrays\n",
    "$Hello = \"Hello World\"\n",
    "Write-Host $Hello[0..($Hello.Length-1)]\n",
    "Write-Host $Hello.ToCharArray()\n",
    "$Hello -split ' '"
   ]
  },
  {
   "cell_type": "code",
   "execution_count": 45,
   "metadata": {
    "dotnet_interactive": {
     "language": "pwsh"
    },
    "polyglot_notebook": {
     "kernelName": "pwsh"
    },
    "vscode": {
     "languageId": "polyglot-notebook"
    }
   },
   "outputs": [
    {
     "name": "stdout",
     "output_type": "stream",
     "text": [
      "John\n",
      "123 Somewhere Dr 902-555-1212\n"
     ]
    }
   ],
   "source": [
    "# more splitting\n",
    "$Data = \"John 123 Somewhere Dr 902-555-1212\"\n",
    "$Data -split ' ',2"
   ]
  },
  {
   "cell_type": "code",
   "execution_count": 6,
   "metadata": {
    "dotnet_interactive": {
     "language": "pwsh"
    },
    "polyglot_notebook": {
     "kernelName": "pwsh"
    },
    "vscode": {
     "languageId": "polyglot-notebook"
    }
   },
   "outputs": [
    {
     "name": "stdout",
     "output_type": "stream",
     "text": [
      "\u001b[31;1mInvalidOperation: \u001b[0m\n",
      "\u001b[31;1m\u001b[36;1mLine |\u001b[0m\n",
      "\u001b[31;1m\u001b[36;1m\u001b[36;1m   4 | \u001b[0m \u001b[36;1m$Vampire[0] = \"V\"\u001b[0m\n",
      "\u001b[31;1m\u001b[36;1m\u001b[36;1m\u001b[0m\u001b[36;1m\u001b[0m\u001b[36;1m     | \u001b[31;1m ~~~~~~~~~~~~~~~~~\u001b[0m\n",
      "\u001b[31;1m\u001b[36;1m\u001b[36;1m\u001b[0m\u001b[36;1m\u001b[0m\u001b[36;1m\u001b[31;1m\u001b[31;1m\u001b[36;1m     | \u001b[31;1mUnable to index into an object of type \"System.String\".\u001b[0m\n",
      "Vampire\n"
     ]
    }
   ],
   "source": [
    "# string immutability\n",
    "$Vampire = \"vampire\"\n",
    "$Halloween = $Vampire.ToCharArray()\n",
    "$Vampire[0] = \"V\"\n",
    "$Halloween[0] = \"V\"\n",
    "$Halloween -join ''"
   ]
  },
  {
   "cell_type": "code",
   "execution_count": 14,
   "metadata": {
    "dotnet_interactive": {
     "language": "pwsh"
    },
    "polyglot_notebook": {
     "kernelName": "pwsh"
    },
    "vscode": {
     "languageId": "polyglot-notebook"
    }
   },
   "outputs": [
    {
     "name": "stdout",
     "output_type": "stream",
     "text": [
      "Vampire\n",
      "VAMPIRE\n"
     ]
    }
   ],
   "source": [
    "# character functions\n",
    "$Vampire = \"vampire\"\n",
    "$Halloween = $Vampire.ToCharArray()\n",
    "if ([Char]::IsLetter($Halloween[0])) {\n",
    "    $Halloween = , [Char]::ToUpper($Halloween[0]) + $Halloween[1..($Halloween.Length-1)]\n",
    "    $Halloween -join ''\n",
    "}\n",
    "$Vampire.ToUpper()"
   ]
  },
  {
   "cell_type": "code",
   "execution_count": null,
   "metadata": {
    "dotnet_interactive": {
     "language": "pwsh"
    },
    "polyglot_notebook": {
     "kernelName": "pwsh"
    },
    "vscode": {
     "languageId": "polyglot-notebook"
    }
   },
   "outputs": [],
   "source": []
  }
 ],
 "metadata": {
  "language_info": {
   "name": "python"
  }
 },
 "nbformat": 4,
 "nbformat_minor": 2
}
