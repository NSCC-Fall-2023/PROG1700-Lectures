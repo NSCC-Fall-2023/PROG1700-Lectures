{
 "cells": [
  {
   "cell_type": "code",
   "execution_count": 3,
   "metadata": {
    "dotnet_interactive": {
     "language": "pwsh"
    },
    "polyglot_notebook": {
     "kernelName": "pwsh"
    },
    "vscode": {
     "languageId": "polyglot-notebook"
    }
   },
   "outputs": [
    {
     "name": "stdout",
     "output_type": "stream",
     "text": [
      "apples, oranges, tangerines, cherries\r\n"
     ]
    }
   ],
   "source": [
    "# creating a hash table\n",
    "$Fruit = @{\n",
    "    'apple' = 'red';\n",
    "    'banana' = 'yellow';\n",
    "    'orange' = 'orange';\n",
    "    'fruit cocktail' = 'apples, oranges, tangerines, cherries';\n",
    "}\n",
    "$Fruit['fruit cocktail']"
   ]
  },
  {
   "cell_type": "code",
   "execution_count": 5,
   "metadata": {
    "dotnet_interactive": {
     "language": "pwsh"
    },
    "polyglot_notebook": {
     "kernelName": "pwsh"
    },
    "vscode": {
     "languageId": "polyglot-notebook"
    }
   },
   "outputs": [
    {
     "name": "stdout",
     "output_type": "stream",
     "text": [
      "correct!\r\n"
     ]
    }
   ],
   "source": [
    "# password list\n",
    "$Passwords = @{\n",
    "    'W123456' = 'Password';\n",
    "    'W111111' = 'easypeasy';\n",
    "    'W222222' = 'veryhard';\n",
    "}\n",
    "if ($Passwords['W111111'] -eq 'easypeasy') {\n",
    "    'correct!'\n",
    "}"
   ]
  },
  {
   "cell_type": "code",
   "execution_count": 7,
   "metadata": {
    "dotnet_interactive": {
     "language": "pwsh"
    },
    "polyglot_notebook": {
     "kernelName": "pwsh"
    },
    "vscode": {
     "languageId": "polyglot-notebook"
    }
   },
   "outputs": [
    {
     "name": "stdout",
     "output_type": "stream",
     "text": [
      "*****\n",
      "*****\n"
     ]
    }
   ],
   "source": [
    "# optional quotes\n",
    "$Superheroes = @{batman='*****'; catwoman='*'; superman='***'}\n",
    "$Superheroes['batman']\n",
    "$Superheroes.batman"
   ]
  },
  {
   "cell_type": "code",
   "execution_count": 9,
   "metadata": {
    "dotnet_interactive": {
     "language": "pwsh"
    },
    "polyglot_notebook": {
     "kernelName": "pwsh"
    },
    "vscode": {
     "languageId": "polyglot-notebook"
    }
   },
   "outputs": [
    {
     "name": "stdout",
     "output_type": "stream",
     "text": [
      "\n",
      "\u001b[32;1mName                           Value\u001b[0m\n",
      "\u001b[32;1m----                           -----\u001b[0m\n",
      "Ok                             Chips\n",
      "Worst                          Candy Corn\n",
      "Best                           Chocolate\n",
      "Excellent                      Candy Apples\n",
      "\n"
     ]
    }
   ],
   "source": [
    "# adding to a hash table\n",
    "$Candy = @{'Best'='Chocolate'; 'Ok'='Chips'; 'Worst'='Candy Corn'}\n",
    "$Candy['Excellent'] = 'Candy Apples'\n",
    "$Candy"
   ]
  },
  {
   "cell_type": "code",
   "execution_count": 16,
   "metadata": {
    "dotnet_interactive": {
     "language": "pwsh"
    },
    "polyglot_notebook": {
     "kernelName": "pwsh"
    },
    "vscode": {
     "languageId": "polyglot-notebook"
    }
   },
   "outputs": [
    {
     "name": "stdout",
     "output_type": "stream",
     "text": [
      "\n",
      "\u001b[32;1mName                           Value\u001b[0m\n",
      "\u001b[32;1m----                           -----\u001b[0m\n",
      ".gitconfig                     54\n",
      ".cortex-debug                  47\n",
      "\n"
     ]
    }
   ],
   "source": [
    "# looping to add\n",
    "$Items = Get-ChildItem $HOME\n",
    "$LargeSizeFiles = @{}\n",
    "foreach ($Item in $Items) {\n",
    "    if ($Item.Length -gt 1) {\n",
    "        $LargeSizeFiles[$Item.Name] = $Item.Length\n",
    "    }\n",
    "}\n",
    "$LargeSizeFiles"
   ]
  },
  {
   "cell_type": "code",
   "execution_count": 17,
   "metadata": {
    "dotnet_interactive": {
     "language": "pwsh"
    },
    "polyglot_notebook": {
     "kernelName": "pwsh"
    },
    "vscode": {
     "languageId": "polyglot-notebook"
    }
   },
   "outputs": [
    {
     "name": "stdout",
     "output_type": "stream",
     "text": [
      "\n",
      "\u001b[32;1mName                           Value\u001b[0m\n",
      "\u001b[32;1m----                           -----\u001b[0m\n",
      "Ok                             Chips\n",
      "Best                           Chocolate\n",
      "\n"
     ]
    }
   ],
   "source": [
    "# removing from hash table\n",
    "$Candy = @{'Best'='Chocolate'; 'Ok'='Chips'; 'Worst'='Candy Corn'}\n",
    "$Candy.Remove('Worst')\n",
    "$Candy"
   ]
  },
  {
   "cell_type": "code",
   "execution_count": 21,
   "metadata": {
    "dotnet_interactive": {
     "language": "pwsh"
    },
    "polyglot_notebook": {
     "kernelName": "pwsh"
    },
    "vscode": {
     "languageId": "polyglot-notebook"
    }
   },
   "outputs": [
    {
     "name": "stdout",
     "output_type": "stream",
     "text": [
      "123\n",
      "1\n",
      "red\n",
      "yellow\n"
     ]
    }
   ],
   "source": [
    "# what can be in a hash table?\n",
    "$Things = @{\n",
    "    number = 123;\n",
    "    string = 'hello world';\n",
    "    decimal = 3.14159;\n",
    "    boolean = $true;\n",
    "    array = @(1, 2, 3, 4, 5);\n",
    "    hashtable = @{apple='red';banana='yellow';orange='orange'};\n",
    "}\n",
    "$Things.number\n",
    "$Things.array[0]\n",
    "$Things.hashtable['apple']\n",
    "$Things.hashtable.banana"
   ]
  },
  {
   "cell_type": "code",
   "execution_count": 25,
   "metadata": {
    "dotnet_interactive": {
     "language": "pwsh"
    },
    "polyglot_notebook": {
     "kernelName": "pwsh"
    },
    "vscode": {
     "languageId": "polyglot-notebook"
    }
   },
   "outputs": [
    {
     "name": "stdout",
     "output_type": "stream",
     "text": [
      "yellow\n",
      "apples, oranges, tangerines, cherries\n",
      "red\n",
      "orange\n",
      "apple banana fruit cocktail orange\n"
     ]
    }
   ],
   "source": [
    "# keys\n",
    "$Fruit = @{\n",
    "    'apple' = 'red';\n",
    "    'banana' = 'yellow';\n",
    "    'orange' = 'orange';\n",
    "    'fruit cocktail' = 'apples, oranges, tangerines, cherries';\n",
    "}\n",
    "foreach ($k in $Fruit.Keys) {\n",
    "    $Fruit[$k]\n",
    "}\n",
    "Write-Host ($Fruit.Keys | sort)"
   ]
  },
  {
   "cell_type": "code",
   "execution_count": 30,
   "metadata": {
    "dotnet_interactive": {
     "language": "pwsh"
    },
    "polyglot_notebook": {
     "kernelName": "pwsh"
    },
    "vscode": {
     "languageId": "polyglot-notebook"
    }
   },
   "outputs": [
    {
     "name": "stdout",
     "output_type": "stream",
     "text": [
      "Key = banana, Value = yellow\n",
      "Key = fruit cocktail, Value = apples, oranges, tangerines, cherries\n",
      "Key = apple, Value = red\n",
      "Key = orange, Value = orange\n",
      "Key = fruit cocktail, Value = apples, oranges, tangerines, cherries\n",
      "Key = orange, Value = orange\n",
      "Key = apple, Value = red\n",
      "Key = banana, Value = yellow\n"
     ]
    }
   ],
   "source": [
    "# key and value pairs in a loop\n",
    "$Fruit = @{\n",
    "    'apple' = 'red';\n",
    "    'banana' = 'yellow';\n",
    "    'orange' = 'orange';\n",
    "    'fruit cocktail' = 'apples, oranges, tangerines, cherries';\n",
    "}\n",
    "foreach ($f in $Fruit.GetEnumerator()) {\n",
    "    \"Key = $($f.Key), Value = $($f.Value)\"\n",
    "}\n",
    "$Sorted = ($Fruit.GetEnumerator() | Sort-Object -Property Value)\n",
    "foreach ($f in $Sorted) {\n",
    "    \"Key = $($f.Key), Value = $($f.Value)\"\n",
    "}"
   ]
  },
  {
   "cell_type": "code",
   "execution_count": 32,
   "metadata": {
    "dotnet_interactive": {
     "language": "pwsh"
    },
    "polyglot_notebook": {
     "kernelName": "pwsh"
    },
    "vscode": {
     "languageId": "polyglot-notebook"
    }
   },
   "outputs": [
    {
     "name": "stdout",
     "output_type": "stream",
     "text": [
      "yellow\n",
      "apples, oranges, tangerines, cherries\n",
      "red\n",
      "orange\n"
     ]
    }
   ],
   "source": [
    "# values\n",
    "$Fruit = @{\n",
    "    'apple' = 'red';\n",
    "    'banana' = 'yellow';\n",
    "    'orange' = 'orange';\n",
    "    'fruit cocktail' = 'apples, oranges, tangerines, cherries';\n",
    "}\n",
    "foreach ($value in $Fruit.Values) {\n",
    "    $value\n",
    "}"
   ]
  },
  {
   "cell_type": "code",
   "execution_count": null,
   "metadata": {
    "dotnet_interactive": {
     "language": "pwsh"
    },
    "polyglot_notebook": {
     "kernelName": "pwsh"
    },
    "vscode": {
     "languageId": "polyglot-notebook"
    }
   },
   "outputs": [],
   "source": []
  }
 ],
 "metadata": {
  "language_info": {
   "name": "python"
  }
 },
 "nbformat": 4,
 "nbformat_minor": 2
}
