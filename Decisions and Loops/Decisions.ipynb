{
 "cells": [
  {
   "cell_type": "code",
   "execution_count": 4,
   "metadata": {
    "dotnet_interactive": {
     "language": "pwsh"
    },
    "polyglot_notebook": {
     "kernelName": "pwsh"
    },
    "vscode": {
     "languageId": "polyglot-notebook"
    }
   },
   "outputs": [
    {
     "name": "stdout",
     "output_type": "stream",
     "text": [
      "False\r\n"
     ]
    }
   ],
   "source": [
    "# a variable can hold a boolean value\n",
    "$BooleanVariable = $true\n",
    "$BooleanVariable = $false\n",
    "$BooleanVariable"
   ]
  },
  {
   "cell_type": "code",
   "execution_count": 7,
   "metadata": {
    "dotnet_interactive": {
     "language": "pwsh"
    },
    "polyglot_notebook": {
     "kernelName": "pwsh"
    },
    "vscode": {
     "languageId": "polyglot-notebook"
    }
   },
   "outputs": [
    {
     "name": "stdout",
     "output_type": "stream",
     "text": [
      "True\r\n"
     ]
    }
   ],
   "source": [
    "# convert an integer to a boolean\n",
    "$IntegerVariable = -123\n",
    "$BooleanVariable = [bool]$IntegerVariable\n",
    "$BooleanVariable"
   ]
  },
  {
   "cell_type": "code",
   "execution_count": 9,
   "metadata": {
    "dotnet_interactive": {
     "language": "pwsh"
    },
    "polyglot_notebook": {
     "kernelName": "pwsh"
    },
    "vscode": {
     "languageId": "polyglot-notebook"
    }
   },
   "outputs": [
    {
     "name": "stdout",
     "output_type": "stream",
     "text": [
      "False\r\n"
     ]
    }
   ],
   "source": [
    "# convert a decimal to a boolean\n",
    "$DecimalVariable = 0.0\n",
    "$BooleanVariable = [bool]$DecimalVariable\n",
    "$BooleanVariable"
   ]
  },
  {
   "cell_type": "code",
   "execution_count": 11,
   "metadata": {
    "dotnet_interactive": {
     "language": "pwsh"
    },
    "polyglot_notebook": {
     "kernelName": "pwsh"
    },
    "vscode": {
     "languageId": "polyglot-notebook"
    }
   },
   "outputs": [
    {
     "name": "stdout",
     "output_type": "stream",
     "text": [
      "False\r\n"
     ]
    }
   ],
   "source": [
    "# convert a string to a boolean\n",
    "$StringVariable = \"\"\n",
    "$BooleanVariable = [bool]$StringVariable\n",
    "$BooleanVariable"
   ]
  },
  {
   "cell_type": "code",
   "execution_count": 15,
   "metadata": {
    "dotnet_interactive": {
     "language": "pwsh"
    },
    "polyglot_notebook": {
     "kernelName": "pwsh"
    },
    "vscode": {
     "languageId": "polyglot-notebook"
    }
   },
   "outputs": [
    {
     "name": "stdout",
     "output_type": "stream",
     "text": [
      "False\r\n"
     ]
    }
   ],
   "source": [
    "# convert the words \"true\" or \"false\" to a boolean\n",
    "$TrueStringVariable = \"true\"\n",
    "$FalseStringVariable = \"false\"\n",
    "$BooleanVariable = [bool]::Parse($FalseStringVariable)\n",
    "$BooleanVariable"
   ]
  },
  {
   "cell_type": "code",
   "execution_count": 18,
   "metadata": {
    "dotnet_interactive": {
     "language": "pwsh"
    },
    "polyglot_notebook": {
     "kernelName": "pwsh"
    },
    "vscode": {
     "languageId": "polyglot-notebook"
    }
   },
   "outputs": [
    {
     "name": "stdout",
     "output_type": "stream",
     "text": [
      "False\n",
      "True\n",
      "False\n",
      "True\n",
      "False\n"
     ]
    }
   ],
   "source": [
    "# basic comparison\n",
    "1 -eq 5\n",
    "1 -lt 5\n",
    "1 -gt 5\n",
    "1 -le 5\n",
    "1 -ge 5"
   ]
  },
  {
   "cell_type": "code",
   "execution_count": 19,
   "metadata": {
    "dotnet_interactive": {
     "language": "pwsh"
    },
    "polyglot_notebook": {
     "kernelName": "pwsh"
    },
    "vscode": {
     "languageId": "polyglot-notebook"
    }
   },
   "outputs": [
    {
     "name": "stdout",
     "output_type": "stream",
     "text": [
      "True\n",
      "True\n"
     ]
    }
   ],
   "source": [
    "# basic variable comparison\n",
    "$NumberOfUsers = 5\n",
    "$NumberOfUsers -lt 10\n",
    "$NumberOfUsers -gt 0"
   ]
  },
  {
   "cell_type": "code",
   "execution_count": 20,
   "metadata": {
    "dotnet_interactive": {
     "language": "pwsh"
    },
    "polyglot_notebook": {
     "kernelName": "pwsh"
    },
    "vscode": {
     "languageId": "polyglot-notebook"
    }
   },
   "outputs": [
    {
     "name": "stdout",
     "output_type": "stream",
     "text": [
      "True\r\n"
     ]
    }
   ],
   "source": [
    "# decimal comparison\n",
    "1.2 -lt 10.3"
   ]
  },
  {
   "cell_type": "code",
   "execution_count": 21,
   "metadata": {
    "dotnet_interactive": {
     "language": "pwsh"
    },
    "polyglot_notebook": {
     "kernelName": "pwsh"
    },
    "vscode": {
     "languageId": "polyglot-notebook"
    }
   },
   "outputs": [
    {
     "name": "stdout",
     "output_type": "stream",
     "text": [
      "1.4142135623731\r\n"
     ]
    }
   ],
   "source": [
    "# decimals are inaccurate\n",
    "[Math]::Sqrt(2)"
   ]
  },
  {
   "cell_type": "code",
   "execution_count": 23,
   "metadata": {
    "dotnet_interactive": {
     "language": "pwsh"
    },
    "polyglot_notebook": {
     "kernelName": "pwsh"
    },
    "vscode": {
     "languageId": "polyglot-notebook"
    }
   },
   "outputs": [
    {
     "name": "stdout",
     "output_type": "stream",
     "text": [
      "0.3\n",
      "False\n"
     ]
    }
   ],
   "source": [
    "# ???\n",
    "$a = 0.1\n",
    "$b = 0.2\n",
    "$a + $b\n",
    "($a + $b) -eq 0.3"
   ]
  },
  {
   "cell_type": "code",
   "execution_count": 25,
   "metadata": {
    "dotnet_interactive": {
     "language": "pwsh"
    },
    "polyglot_notebook": {
     "kernelName": "pwsh"
    },
    "vscode": {
     "languageId": "polyglot-notebook"
    }
   },
   "outputs": [
    {
     "name": "stdout",
     "output_type": "stream",
     "text": [
      "True\n",
      "True\n"
     ]
    }
   ],
   "source": [
    "# comparing strings\n",
    "\"hello\" -eq \"hello\"\n",
    "$UserInput = \"Password\"\n",
    "$UserInput -eq \"Password\""
   ]
  },
  {
   "cell_type": "code",
   "execution_count": 29,
   "metadata": {
    "dotnet_interactive": {
     "language": "pwsh"
    },
    "polyglot_notebook": {
     "kernelName": "pwsh"
    },
    "vscode": {
     "languageId": "polyglot-notebook"
    }
   },
   "outputs": [
    {
     "name": "stdout",
     "output_type": "stream",
     "text": [
      "False\n",
      "False\n"
     ]
    }
   ],
   "source": [
    "# less than?\n",
    "\"hello\" -lt \"goodbye\"\n",
    "\"hello world\" -lt \"helli world\""
   ]
  },
  {
   "cell_type": "code",
   "execution_count": 52,
   "metadata": {
    "dotnet_interactive": {
     "language": "pwsh"
    },
    "polyglot_notebook": {
     "kernelName": "pwsh"
    },
    "vscode": {
     "languageId": "polyglot-notebook"
    }
   },
   "outputs": [
    {
     "name": "stdout",
     "output_type": "stream",
     "text": [
      "False\n",
      "False\n",
      "True\n"
     ]
    }
   ],
   "source": [
    "# capitals?\n",
    "\"Hello\" -ne \"hello\"\n",
    "\"Hello\" -ceq \"hello\"\n",
    "\"Hello\" -ieq \"hello\""
   ]
  },
  {
   "cell_type": "code",
   "execution_count": 37,
   "metadata": {
    "dotnet_interactive": {
     "language": "pwsh"
    },
    "polyglot_notebook": {
     "kernelName": "pwsh"
    },
    "vscode": {
     "languageId": "polyglot-notebook"
    }
   },
   "outputs": [
    {
     "name": "stdout",
     "output_type": "stream",
     "text": [
      "(Hello)\n",
      "True\n",
      "True\n",
      "True\n"
     ]
    }
   ],
   "source": [
    "# non-letters\n",
    "\"(Hello)\"\n",
    "\"(Hello)\" -lt \"Hello\"\n",
    "\"(\" -lt \"a\"\n",
    "\"a\" -lt \"z\""
   ]
  },
  {
   "cell_type": "code",
   "execution_count": 40,
   "metadata": {
    "dotnet_interactive": {
     "language": "pwsh"
    },
    "polyglot_notebook": {
     "kernelName": "pwsh"
    },
    "vscode": {
     "languageId": "polyglot-notebook"
    }
   },
   "outputs": [
    {
     "name": "stdout",
     "output_type": "stream",
     "text": [
      "True\n",
      "False\n",
      "False\n"
     ]
    }
   ],
   "source": [
    "# special character order\n",
    "\"!\" -lt \"+\"\n",
    "\"@\" -lt \"-\"\n",
    "\"#\" -lt \"*\""
   ]
  },
  {
   "cell_type": "code",
   "execution_count": 44,
   "metadata": {
    "dotnet_interactive": {
     "language": "pwsh"
    },
    "polyglot_notebook": {
     "kernelName": "pwsh"
    },
    "vscode": {
     "languageId": "polyglot-notebook"
    }
   },
   "outputs": [
    {
     "name": "stdout",
     "output_type": "stream",
     "text": [
      "False\n",
      "97\n"
     ]
    }
   ],
   "source": [
    "# ASCII - American Standard Code Information Interchange\n",
    "[char]\"a\" -lt [char]\"A\"\n",
    "[byte][char]\"a\""
   ]
  },
  {
   "cell_type": "code",
   "execution_count": 51,
   "metadata": {
    "dotnet_interactive": {
     "language": "pwsh"
    },
    "polyglot_notebook": {
     "kernelName": "pwsh"
    },
    "vscode": {
     "languageId": "polyglot-notebook"
    }
   },
   "outputs": [
    {
     "name": "stdout",
     "output_type": "stream",
     "text": [
      "True\n",
      "True\n",
      "True\n"
     ]
    }
   ],
   "source": [
    "# wildcards\n",
    "#Get-ChildItem \"D*\"\n",
    "#Get-ChildItem \"*.?pynb\"\n",
    "#Get-ChildItem \"Dec[io]sions.*\"\n",
    "\"this\" -like \"*hi*\"\n",
    "\"this\" -notlike \"th?t\"\n",
    "\"this\" -like \"th[ai][a-z]\""
   ]
  },
  {
   "cell_type": "code",
   "execution_count": 57,
   "metadata": {
    "dotnet_interactive": {
     "language": "pwsh"
    },
    "polyglot_notebook": {
     "kernelName": "pwsh"
    },
    "vscode": {
     "languageId": "polyglot-notebook"
    }
   },
   "outputs": [
    {
     "name": "stdout",
     "output_type": "stream",
     "text": [
      "True\r\n"
     ]
    }
   ],
   "source": [
    "$File = Get-ChildItem\n",
    "$File.Name -eq \"Decisions.ipynb\""
   ]
  },
  {
   "cell_type": "code",
   "execution_count": 60,
   "metadata": {
    "dotnet_interactive": {
     "language": "pwsh"
    },
    "polyglot_notebook": {
     "kernelName": "pwsh"
    },
    "vscode": {
     "languageId": "polyglot-notebook"
    }
   },
   "outputs": [
    {
     "name": "stdout",
     "output_type": "stream",
     "text": [
      "Cats are definitely less than dogs...\r\n"
     ]
    }
   ],
   "source": [
    "# basic if statement\n",
    "# action is performed when comparison is \"true\"\n",
    "if (\"cat\" -lt \"dog\") {\n",
    "    Write-Host \"Cats are definitely less than dogs...\"\n",
    "}"
   ]
  },
  {
   "cell_type": "code",
   "execution_count": 61,
   "metadata": {
    "dotnet_interactive": {
     "language": "pwsh"
    },
    "polyglot_notebook": {
     "kernelName": "pwsh"
    },
    "vscode": {
     "languageId": "polyglot-notebook"
    }
   },
   "outputs": [
    {
     "name": "stdout",
     "output_type": "stream",
     "text": [
      "Licenses are still valid.\r\n"
     ]
    }
   ],
   "source": [
    "$NumberOfUsers = 10\n",
    "if ($NumberOfUsers -lt 100) {\n",
    "    Write-Host \"Licenses are still valid.\"\n",
    "}"
   ]
  },
  {
   "cell_type": "code",
   "execution_count": 62,
   "metadata": {
    "dotnet_interactive": {
     "language": "pwsh"
    },
    "polyglot_notebook": {
     "kernelName": "pwsh"
    },
    "vscode": {
     "languageId": "polyglot-notebook"
    }
   },
   "outputs": [
    {
     "name": "stdout",
     "output_type": "stream",
     "text": [
      "This gets output when True.\r\n"
     ]
    }
   ],
   "source": [
    "# using a boolean value\n",
    "if ($True) {\n",
    "    Write-Host \"This gets output when True.\"\n",
    "}"
   ]
  },
  {
   "cell_type": "code",
   "execution_count": 2,
   "metadata": {
    "dotnet_interactive": {
     "language": "pwsh"
    },
    "polyglot_notebook": {
     "kernelName": "pwsh"
    },
    "vscode": {
     "languageId": "polyglot-notebook"
    }
   },
   "outputs": [
    {
     "name": "stdout",
     "output_type": "stream",
     "text": [
      "Yep, it works.\r\n"
     ]
    }
   ],
   "source": [
    "# even this would work\n",
    "if ([bool]1231343) {\n",
    "    Write-Host \"Yep, it works.\"\n",
    "}"
   ]
  },
  {
   "cell_type": "code",
   "execution_count": 6,
   "metadata": {
    "dotnet_interactive": {
     "language": "pwsh"
    },
    "polyglot_notebook": {
     "kernelName": "pwsh"
    },
    "vscode": {
     "languageId": "polyglot-notebook"
    }
   },
   "outputs": [
    {
     "name": "stdout",
     "output_type": "stream",
     "text": [
      "Happy Long Weekend!\n",
      "Happy Long Weekend!\n"
     ]
    }
   ],
   "source": [
    "# a simple false comparison\n",
    "$Today = \"Thursday\"\n",
    "if ($Today -ne \"Friday\") {\n",
    "    Write-Host \"Happy Long Weekend!\"\n",
    "}\n",
    "if (-not ($Today -eq \"Friday\")) {\n",
    "    Write-Host \"Happy Long Weekend!\"\n",
    "}"
   ]
  },
  {
   "cell_type": "code",
   "execution_count": 7,
   "metadata": {
    "dotnet_interactive": {
     "language": "pwsh"
    },
    "polyglot_notebook": {
     "kernelName": "pwsh"
    },
    "vscode": {
     "languageId": "polyglot-notebook"
    }
   },
   "outputs": [
    {
     "name": "stdout",
     "output_type": "stream",
     "text": [
      "Incorrect\r\n"
     ]
    }
   ],
   "source": [
    "# using -not correctly\n",
    "$Valid = $false\n",
    "if (-not $Valid) {\n",
    "    Write-Host \"Incorrect\"\n",
    "}"
   ]
  },
  {
   "cell_type": "code",
   "execution_count": 9,
   "metadata": {
    "dotnet_interactive": {
     "language": "pwsh"
    },
    "polyglot_notebook": {
     "kernelName": "pwsh"
    },
    "vscode": {
     "languageId": "polyglot-notebook"
    }
   },
   "outputs": [
    {
     "name": "stdout",
     "output_type": "stream",
     "text": [
      "Ham for you!\r\n"
     ]
    }
   ],
   "source": [
    "# else statement\n",
    "$ILikeTurkey = $false\n",
    "if ($ILikeTurkey) {\n",
    "    Write-Host \"Turkey it is!\"\n",
    "} else {\n",
    "    Write-Host \"Ham for you!\"\n",
    "}"
   ]
  },
  {
   "cell_type": "code",
   "execution_count": 12,
   "metadata": {
    "dotnet_interactive": {
     "language": "pwsh"
    },
    "polyglot_notebook": {
     "kernelName": "pwsh"
    },
    "vscode": {
     "languageId": "polyglot-notebook"
    }
   },
   "outputs": [
    {
     "name": "stdout",
     "output_type": "stream",
     "text": [
      "Lima Beans is what you get!\r\n"
     ]
    }
   ],
   "source": [
    "# elseif\n",
    "$FavouritePie = \"MincedMeat\"\n",
    "if ($FavouritePie -eq \"Pumpkin\") {\n",
    "    Write-Host \"Need to buy small pumpkins!\"\n",
    "} elseif ($FavouritePie -eq \"Apple\") {\n",
    "    Write-Host \"A bag of apples is what I need!\"\n",
    "} else {\n",
    "    Write-Host \"Lima Beans is what you get!\"\n",
    "}"
   ]
  },
  {
   "cell_type": "code",
   "execution_count": 13,
   "metadata": {
    "dotnet_interactive": {
     "language": "pwsh"
    },
    "polyglot_notebook": {
     "kernelName": "pwsh"
    },
    "vscode": {
     "languageId": "polyglot-notebook"
    }
   },
   "outputs": [
    {
     "name": "stdout",
     "output_type": "stream",
     "text": [
      "Need some cranberry sauce.\r\n"
     ]
    }
   ],
   "source": [
    "# nested if statements\n",
    "$BestThanksgivingCondiment = \"Cranberry Sauce\"\n",
    "$ThanksgivingMeal = \"Turkey\"\n",
    "if ($BestThanksgivingCondiment -eq \"Cranberry Sauce\") {\n",
    "    if ($ThanksgivingMeal -eq \"Turkey\") {\n",
    "        Write-Host \"Need some cranberry sauce.\"\n",
    "    }\n",
    "}"
   ]
  },
  {
   "cell_type": "code",
   "execution_count": 14,
   "metadata": {
    "dotnet_interactive": {
     "language": "pwsh"
    },
    "polyglot_notebook": {
     "kernelName": "pwsh"
    },
    "vscode": {
     "languageId": "polyglot-notebook"
    }
   },
   "outputs": [
    {
     "name": "stdout",
     "output_type": "stream",
     "text": [
      "Need some cranberry sauce.\r\n"
     ]
    }
   ],
   "source": [
    "# compound if statements\n",
    "$BestThanksgivingCondiment = \"Cranberry Sauce\"\n",
    "$ThanksgivingMeal = \"Turkey\"\n",
    "if ($BestThanksgivingCondiment -eq \"Cranberry Sauce\" -and \n",
    "    $ThanksgivingMeal -eq \"Turkey\") {\n",
    "        Write-Host \"Need some cranberry sauce.\"\n",
    "}"
   ]
  },
  {
   "cell_type": "code",
   "execution_count": 18,
   "metadata": {
    "dotnet_interactive": {
     "language": "pwsh"
    },
    "polyglot_notebook": {
     "kernelName": "pwsh"
    },
    "vscode": {
     "languageId": "polyglot-notebook"
    }
   },
   "outputs": [
    {
     "name": "stdout",
     "output_type": "stream",
     "text": [
      "Pizza!!!\r\n"
     ]
    }
   ],
   "source": [
    "# bigger nested if statements\n",
    "$IHaveInlaws = $false\n",
    "if ($IHaveInlaws) {\n",
    "    Write-Host \"A big Thanksgiving meal is needed...\"\n",
    "    $InlawsMealChoice = \"Turkey\"\n",
    "    if ($InlawsMealChoice -eq \"Turkey\") {\n",
    "        Write-Host \"Buy Ham!\"\n",
    "    } else {\n",
    "        Write-Host \"Buy Turkey!\"\n",
    "    }\n",
    "} else {\n",
    "    Write-Host \"Pizza!!!\"\n",
    "}"
   ]
  },
  {
   "cell_type": "code",
   "execution_count": 21,
   "metadata": {
    "dotnet_interactive": {
     "language": "pwsh"
    },
    "polyglot_notebook": {
     "kernelName": "pwsh"
    },
    "vscode": {
     "languageId": "polyglot-notebook"
    }
   },
   "outputs": [
    {
     "name": "stdout",
     "output_type": "stream",
     "text": [
      "Buy Turkey\r\n"
     ]
    }
   ],
   "source": [
    "# bigger compound if statements\n",
    "$IHaveInlaws = $false\n",
    "$InlawsMealChoice = \"Ham\"\n",
    "$MyFavouriteMeal = \"Turkey\"\n",
    "if ($IHaveInlaws -and $InlawsMealChoice -eq \"Turkey\") {\n",
    "    Write-Host \"Buy Ham!\"\n",
    "} elseif ($IHaveInlaws -or $MyFavouriteMeal -eq \"Turkey\") {\n",
    "    Write-Host \"Buy Turkey\"\n",
    "} else {\n",
    "    Write-Host \"Pizza!\"\n",
    "}"
   ]
  },
  {
   "cell_type": "code",
   "execution_count": 1,
   "metadata": {
    "dotnet_interactive": {
     "language": "pwsh"
    },
    "polyglot_notebook": {
     "kernelName": "pwsh"
    },
    "vscode": {
     "languageId": "polyglot-notebook"
    }
   },
   "outputs": [
    {
     "name": "stdout",
     "output_type": "stream",
     "text": [
      "purple\r\n"
     ]
    }
   ],
   "source": [
    "# bigger example of compound if statements\n",
    "$Colour1 = \"red\"\n",
    "$Colour2 = \"blue\"\n",
    "\n",
    "# prioritize the colours by alphabetic order\n",
    "if ($Colour1 -gt $Colour2) {\n",
    "    $Temp = $Colour1\n",
    "    $Colour1 = $Colour2\n",
    "    $Colour2 = $Temp\n",
    "}\n",
    "\n",
    "if (($Colour1 -eq \"blue\") -and ($Colour2 -eq \"red\")) {\n",
    "    Write-Host \"purple\"\n",
    "}\n",
    "if ((($Colour1 -eq \"red\") -and ($Colour2 -eq \"yellow\")) -or\n",
    "    (($Colour1 -eq \"yellow\") -and ($Colour2 -eq \"red\"))) {\n",
    "    Write-Host \"orange\"\n",
    "}\n",
    "if ((($Colour1 -eq \"blue\") -and ($Colour2 -eq \"yellow\")) -or\n",
    "    (($Colour1 -eq \"yellow\") -and ($Colour2 -eq \"blue\"))) {\n",
    "    Write-Host \"green\"\n",
    "}"
   ]
  },
  {
   "cell_type": "code",
   "execution_count": null,
   "metadata": {
    "dotnet_interactive": {
     "language": "pwsh"
    },
    "polyglot_notebook": {
     "kernelName": "pwsh"
    },
    "vscode": {
     "languageId": "polyglot-notebook"
    }
   },
   "outputs": [],
   "source": []
  }
 ],
 "metadata": {
  "language_info": {
   "name": "python"
  },
  "orig_nbformat": 4
 },
 "nbformat": 4,
 "nbformat_minor": 2
}
