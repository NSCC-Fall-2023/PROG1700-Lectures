{
 "cells": [
  {
   "cell_type": "code",
   "execution_count": 5,
   "metadata": {
    "dotnet_interactive": {
     "language": "pwsh"
    },
    "polyglot_notebook": {
     "kernelName": "pwsh"
    },
    "vscode": {
     "languageId": "polyglot-notebook"
    }
   },
   "outputs": [
    {
     "name": "stdout",
     "output_type": "stream",
     "text": [
      "0\n",
      "1\n",
      "2\n",
      "3\n",
      "4\n",
      "5\n"
     ]
    }
   ],
   "source": [
    "# basic while loop\n",
    "$Counter = 0\n",
    "while ($Counter -le 5) {\n",
    "    Write-Host $Counter\n",
    "    # $Counter = $Counter + 1\n",
    "    # $Counter += 1\n",
    "    $Counter++\n",
    "}"
   ]
  },
  {
   "cell_type": "code",
   "execution_count": 6,
   "metadata": {
    "dotnet_interactive": {
     "language": "pwsh"
    },
    "polyglot_notebook": {
     "kernelName": "pwsh"
    },
    "vscode": {
     "languageId": "polyglot-notebook"
    }
   },
   "outputs": [
    {
     "name": "stdout",
     "output_type": "stream",
     "text": [
      ".\n",
      ".\n",
      ".\n",
      ".\n"
     ]
    }
   ],
   "source": [
    "# while based on strings\n",
    "$UserInput = \"\"\n",
    "while ($UserInput -ne \"Exit\") {\n",
    "    $UserInput = Read-Host \"Enter something\"\n",
    "    Write-Host \".\"\n",
    "}"
   ]
  },
  {
   "cell_type": "code",
   "execution_count": 1,
   "metadata": {
    "dotnet_interactive": {
     "language": "pwsh"
    },
    "polyglot_notebook": {
     "kernelName": "pwsh"
    },
    "vscode": {
     "languageId": "polyglot-notebook"
    }
   },
   "outputs": [
    {
     "name": "stdout",
     "output_type": "stream",
     "text": [
      "Counter1: 1, Counter2: 10\n",
      "Counter1: 2, Counter2: 9\n",
      "Counter1: 3, Counter2: 8\n",
      "Counter1: 4, Counter2: 7\n"
     ]
    }
   ],
   "source": [
    "# compound decision in a loop\n",
    "$Counter1 = 1\n",
    "$Counter2 = 10\n",
    "while ($Counter1 -lt 5 -and $Counter2 -gt 5) {\n",
    "    Write-Host \"Counter1: $Counter1, Counter2: $Counter2\"\n",
    "    $Counter1++\n",
    "    $Counter2--\n",
    "}"
   ]
  },
  {
   "cell_type": "code",
   "execution_count": 1,
   "metadata": {
    "dotnet_interactive": {
     "language": "pwsh"
    },
    "polyglot_notebook": {
     "kernelName": "pwsh"
    },
    "vscode": {
     "languageId": "polyglot-notebook"
    }
   },
   "outputs": [
    {
     "name": "stdout",
     "output_type": "stream",
     "text": [
      "Login Unsuccessful\r\n"
     ]
    }
   ],
   "source": [
    "# example\n",
    "$UserInput = \"\"\n",
    "$Count = 0\n",
    "while ($UserInput -ne \"Password\" -and $Count -lt 3) {\n",
    "    $UserInput = Read-Host \"Enter password\"\n",
    "    $Count++\n",
    "}\n",
    "if ($UserInput -eq \"Password\") {\n",
    "    Write-Host \"Logged In Successfully\"\n",
    "} else {\n",
    "    Write-Host \"Login Unsuccessful\"\n",
    "}"
   ]
  },
  {
   "cell_type": "code",
   "execution_count": 1,
   "metadata": {
    "dotnet_interactive": {
     "language": "pwsh"
    },
    "polyglot_notebook": {
     "kernelName": "pwsh"
    },
    "vscode": {
     "languageId": "polyglot-notebook"
    }
   },
   "outputs": [
    {
     "name": "stdout",
     "output_type": "stream",
     "text": [
      ".\n",
      "Logged in\n"
     ]
    }
   ],
   "source": [
    "# do until based on strings\n",
    "do {\n",
    "    $UserInput = Read-Host \"Enter password\"\n",
    "    Write-Host \".\"\n",
    "} until ($UserInput -eq \"Password\")\n",
    "Write-Host \"Logged in\""
   ]
  },
  {
   "cell_type": "code",
   "execution_count": 1,
   "metadata": {
    "dotnet_interactive": {
     "language": "pwsh"
    },
    "polyglot_notebook": {
     "kernelName": "pwsh"
    },
    "vscode": {
     "languageId": "polyglot-notebook"
    }
   },
   "outputs": [
    {
     "name": "stdout",
     "output_type": "stream",
     "text": [
      "0\n",
      "1\n",
      "2\n",
      "3\n",
      "4\n",
      "5\n"
     ]
    }
   ],
   "source": [
    "# basic for loop\n",
    "for ($Counter = 0; $Counter -le 5; $Counter++) {\n",
    "    Write-Host $Counter\n",
    "}"
   ]
  },
  {
   "cell_type": "code",
   "execution_count": null,
   "metadata": {
    "dotnet_interactive": {
     "language": "pwsh"
    },
    "polyglot_notebook": {
     "kernelName": "pwsh"
    },
    "vscode": {
     "languageId": "polyglot-notebook"
    }
   },
   "outputs": [],
   "source": []
  }
 ],
 "metadata": {
  "language_info": {
   "name": "python"
  }
 },
 "nbformat": 4,
 "nbformat_minor": 2
}
