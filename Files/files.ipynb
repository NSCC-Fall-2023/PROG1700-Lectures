{
 "cells": [
  {
   "cell_type": "code",
   "execution_count": 8,
   "metadata": {
    "dotnet_interactive": {
     "language": "pwsh"
    },
    "polyglot_notebook": {
     "kernelName": "pwsh"
    },
    "vscode": {
     "languageId": "polyglot-notebook"
    }
   },
   "outputs": [
    {
     "name": "stdout",
     "output_type": "stream",
     "text": [
      "🙈\n",
      "🙉\n",
      "🙊\n",
      "☠\n",
      "🎄\n",
      "🎅\n",
      "💩\n"
     ]
    }
   ],
   "source": [
    "\"`u{1F648}\"\n",
    "\"`u{1F649}\"\n",
    "\"`u{1F64A}\"\n",
    "\"`u{2620}\"\n",
    "\"`u{1F384}\"\n",
    "\"`u{1F385}\"\n",
    "\"`u{1F4A9}\"\n"
   ]
  },
  {
   "cell_type": "code",
   "execution_count": 9,
   "metadata": {
    "dotnet_interactive": {
     "language": "pwsh"
    },
    "polyglot_notebook": {
     "kernelName": "pwsh"
    },
    "vscode": {
     "languageId": "polyglot-notebook"
    }
   },
   "outputs": [
    {
     "name": "stdout",
     "output_type": "stream",
     "text": [
      "\n",
      "    Directory: C:\\Users\\W0111036\n",
      "\n",
      "\u001b[32;1mMode                 LastWriteTime         Length Name\u001b[0m\n",
      "\u001b[32;1m----                 -------------         ------ ----\u001b[0m\n",
      "d----          11/22/2023  8:27 AM                \u001b[44;1m.dotnet\u001b[0m\n",
      "d----           9/27/2023  9:31 AM                \u001b[44;1m.nuget\u001b[0m\n",
      "d----          11/20/2023  1:44 PM                \u001b[44;1m.quokka\u001b[0m\n",
      "d----           9/27/2023  9:31 AM                \u001b[44;1m.templateengine\u001b[0m\n",
      "d----           9/27/2023  9:16 AM                \u001b[44;1m.vscode\u001b[0m\n",
      "d----           9/27/2023  9:17 AM                \u001b[44;1m.wallaby\u001b[0m\n",
      "d-r--            9/6/2023  8:20 AM                \u001b[44;1m3D Objects\u001b[0m\n",
      "d----          10/11/2023  9:00 AM                \u001b[44;1massignment-1-bshewan-1\u001b[0m\n",
      "d----          10/11/2023  9:44 AM                \u001b[44;1massignment-2-bshewan-1\u001b[0m\n",
      "d----          10/25/2023  9:44 AM                \u001b[44;1massignment-3-bshewan\u001b[0m\n",
      "d----          11/15/2023  8:52 AM                \u001b[44;1massignment-4-bshewan\u001b[0m\n",
      "d-r--            9/6/2023  8:20 AM                \u001b[44;1mContacts\u001b[0m\n",
      "d-r--            9/6/2023  8:20 AM                \u001b[44;1mDesktop\u001b[0m\n",
      "d-r--          10/23/2023  2:28 PM                \u001b[44;1mDocuments\u001b[0m\n",
      "d-r--          11/22/2023  8:57 AM                \u001b[44;1mDownloads\u001b[0m\n",
      "d-r--            9/6/2023  8:20 AM                \u001b[44;1mFavorites\u001b[0m\n",
      "d-r--            9/6/2023  8:20 AM                \u001b[44;1mLinks\u001b[0m\n",
      "d-r--            9/6/2023  8:20 AM                \u001b[44;1mMusic\u001b[0m\n",
      "d-r--            8/9/2023 11:08 AM                \u001b[44;1mOneDrive\u001b[0m\n",
      "d-r--            9/6/2023  8:20 AM                \u001b[44;1mPictures\u001b[0m\n",
      "d----          11/22/2023  8:26 AM                \u001b[44;1mPROG1700-Lectures\u001b[0m\n",
      "d-r--            9/6/2023  8:20 AM                \u001b[44;1mSaved Games\u001b[0m\n",
      "d-r--            9/8/2023  8:30 AM                \u001b[44;1mSearches\u001b[0m\n",
      "d-r--            9/6/2023  8:20 AM                \u001b[44;1mVideos\u001b[0m\n",
      "\n"
     ]
    }
   ],
   "source": [
    "# get files and folders\n",
    "Get-ChildItem $HOME -Directory"
   ]
  },
  {
   "cell_type": "code",
   "execution_count": 15,
   "metadata": {
    "dotnet_interactive": {
     "language": "pwsh"
    },
    "polyglot_notebook": {
     "kernelName": "pwsh"
    },
    "vscode": {
     "languageId": "polyglot-notebook"
    }
   },
   "outputs": [
    {
     "name": "stdout",
     "output_type": "stream",
     "text": [
      "\n",
      "\u001b[32;1mPath\u001b[0m\n",
      "\u001b[32;1m----\u001b[0m\n",
      "C:\\Users\\W0111036\\PROG1700-Lectures\\Files\n",
      "C:\\Users\\W0111036\\PROG1700-Lectures\\Files\\temp.txt\n",
      "C:\\Users\\W0111036\\PROG1700-Lectures\\Files\n",
      "\n"
     ]
    }
   ],
   "source": [
    "# get current folder\n",
    "Get-Location\n",
    "(Get-Location).Path + \"\\temp.txt\"\n",
    "$pwd\n",
    "# set current folder\n",
    "Set-Location '.\\crappydb'"
   ]
  },
  {
   "cell_type": "code",
   "execution_count": 16,
   "metadata": {
    "dotnet_interactive": {
     "language": "pwsh"
    },
    "polyglot_notebook": {
     "kernelName": "pwsh"
    },
    "vscode": {
     "languageId": "polyglot-notebook"
    }
   },
   "outputs": [
    {
     "name": "stdout",
     "output_type": "stream",
     "text": [
      "\n",
      "\u001b[32;1mPath\u001b[0m\n",
      "\u001b[32;1m----\u001b[0m\n",
      "C:\\Users\\W0111036\\PROG1700-Lectures\\Files\\emojis.ps1\n",
      "\n"
     ]
    }
   ],
   "source": [
    "# resolve path\n",
    "Resolve-Path .\\emojis.ps1"
   ]
  },
  {
   "cell_type": "code",
   "execution_count": 17,
   "metadata": {
    "dotnet_interactive": {
     "language": "pwsh"
    },
    "polyglot_notebook": {
     "kernelName": "pwsh"
    },
    "vscode": {
     "languageId": "polyglot-notebook"
    }
   },
   "outputs": [
    {
     "name": "stdout",
     "output_type": "stream",
     "text": [
      "False\r\n"
     ]
    }
   ],
   "source": [
    "# test if file/folder exists\n",
    "Test-Path hello"
   ]
  },
  {
   "cell_type": "code",
   "execution_count": 18,
   "metadata": {
    "dotnet_interactive": {
     "language": "pwsh"
    },
    "polyglot_notebook": {
     "kernelName": "pwsh"
    },
    "vscode": {
     "languageId": "polyglot-notebook"
    }
   },
   "outputs": [
    {
     "name": "stdout",
     "output_type": "stream",
     "text": [
      "\n",
      "    Directory: C:\\Users\\W0111036\\PROG1700-Lectures\\Files\n",
      "\n",
      "\u001b[32;1mMode                 LastWriteTime         Length Name\u001b[0m\n",
      "\u001b[32;1m----                 -------------         ------ ----\u001b[0m\n",
      "-a---          11/22/2023  9:24 AM            449 \u001b[33;1memojis.ps1\u001b[0m\n",
      "\n",
      "\u001b[32;1mPSPath                  : \u001b[0mMicrosoft.PowerShell.Core\\FileSystem::C:\\Users\\W0111036\\PROG1700-Lectures\n",
      "                          \\Files\\emojis.ps1\n",
      "\u001b[32;1mPSParentPath            : \u001b[0mMicrosoft.PowerShell.Core\\FileSystem::C:\\Users\\W0111036\\PROG1700-Lectures\n",
      "                          \\Files\n",
      "\u001b[32;1mPSChildName             : \u001b[0memojis.ps1\n",
      "\u001b[32;1mPSDrive                 : \u001b[0mC\n",
      "\u001b[32;1mPSProvider              : \u001b[0mMicrosoft.PowerShell.Core\\FileSystem\n",
      "\u001b[32;1mCentralAccessPolicyId   : \u001b[0m\n",
      "\u001b[32;1mAccessRightType         : \u001b[0mSystem.Security.AccessControl.FileSystemRights\n",
      "\u001b[32;1mAccessRuleType          : \u001b[0mSystem.Security.AccessControl.FileSystemAccessRule\n",
      "\u001b[32;1mAuditRuleType           : \u001b[0mSystem.Security.AccessControl.FileSystemAuditRule\n",
      "\u001b[32;1mAreAccessRulesProtected : \u001b[0mFalse\n",
      "\u001b[32;1mAreAuditRulesProtected  : \u001b[0mFalse\n",
      "\u001b[32;1mAreAccessRulesCanonical : \u001b[0mTrue\n",
      "\u001b[32;1mAreAuditRulesCanonical  : \u001b[0mTrue\n",
      "\u001b[32;1mPath                    : \u001b[0mMicrosoft.PowerShell.Core\\FileSystem::C:\\Users\\W0111036\\PROG1700-Lectures\n",
      "                          \\Files\\emojis.ps1\n",
      "\u001b[32;1mOwner                   : \u001b[0mCAMPUS\\W0111036\n",
      "\u001b[32;1mGroup                   : \u001b[0mCAMPUS\\W0111036\n",
      "\u001b[32;1mAccess                  : \u001b[0m{System.Security.AccessControl.FileSystemAccessRule, \n",
      "                          System.Security.AccessControl.FileSystemAccessRule, \n",
      "                          System.Security.AccessControl.FileSystemAccessRule}\n",
      "\u001b[32;1mSddl                    : \u001b[0mO:S-1-12-1-1896719180-1112555656-2527592085-3740540719G:S-1-12-1-18967191\n",
      "                          80-1112555656-2527592085-3740540719D:(A;ID;FA;;;SY)(A;ID;FA;;;BA)(A;ID;FA\n",
      "                          ;;;S-1-12-1-1896719180-1112555656-2527592085-3740540719)\n",
      "\u001b[32;1mAccessToString          : \u001b[0mNT AUTHORITY\\SYSTEM Allow  FullControl\n",
      "                          BUILTIN\\Administrators Allow  FullControl\n",
      "                          CAMPUS\\W0111036 Allow  FullControl\n",
      "\u001b[32;1mAuditToString           : \u001b[0m\n",
      "\n",
      "\n"
     ]
    }
   ],
   "source": [
    "# get file information\n",
    "Get-Item .\\emojis.ps1\n",
    "Get-Acl .\\emojis.ps1"
   ]
  },
  {
   "cell_type": "code",
   "execution_count": null,
   "metadata": {
    "dotnet_interactive": {
     "language": "pwsh"
    },
    "polyglot_notebook": {
     "kernelName": "pwsh"
    },
    "vscode": {
     "languageId": "polyglot-notebook"
    }
   },
   "outputs": [],
   "source": [
    "# copy files\n",
    "Copy-Item .\\emoji.ps1 .\\emojis.ps1.bak\n",
    "# copy files recursively\n",
    "Copy-Item ..\\Files -Recurse ..\\FilesBackup"
   ]
  },
  {
   "cell_type": "code",
   "execution_count": 19,
   "metadata": {
    "dotnet_interactive": {
     "language": "pwsh"
    },
    "polyglot_notebook": {
     "kernelName": "pwsh"
    },
    "vscode": {
     "languageId": "polyglot-notebook"
    }
   },
   "outputs": [],
   "source": [
    "# remove files\n",
    "Remove-Item .\\emojis.ps1.bak"
   ]
  },
  {
   "cell_type": "code",
   "execution_count": null,
   "metadata": {
    "dotnet_interactive": {
     "language": "pwsh"
    },
    "polyglot_notebook": {
     "kernelName": "pwsh"
    },
    "vscode": {
     "languageId": "polyglot-notebook"
    }
   },
   "outputs": [],
   "source": [
    "# make a new file\n",
    "New-Item -ItemType File -Path .\\temp.txt\n",
    "# make a new folder\n",
    "New-Item -ItemType Directory -Path .\\temp"
   ]
  },
  {
   "cell_type": "code",
   "execution_count": null,
   "metadata": {
    "dotnet_interactive": {
     "language": "pwsh"
    },
    "polyglot_notebook": {
     "kernelName": "pwsh"
    },
    "vscode": {
     "languageId": "polyglot-notebook"
    }
   },
   "outputs": [],
   "source": [
    "# rename files\n",
    "Rename-Item .\\temp.txt .\\nottemp.txt"
   ]
  },
  {
   "cell_type": "code",
   "execution_count": 20,
   "metadata": {
    "dotnet_interactive": {
     "language": "pwsh"
    },
    "polyglot_notebook": {
     "kernelName": "pwsh"
    },
    "vscode": {
     "languageId": "polyglot-notebook"
    }
   },
   "outputs": [],
   "source": [
    "# move files\n",
    "Move-Item .\\nottemp.txt .\\temp"
   ]
  },
  {
   "cell_type": "code",
   "execution_count": 21,
   "metadata": {
    "dotnet_interactive": {
     "language": "pwsh"
    },
    "polyglot_notebook": {
     "kernelName": "pwsh"
    },
    "vscode": {
     "languageId": "polyglot-notebook"
    }
   },
   "outputs": [],
   "source": [
    "# start default application for file\n",
    "Invoke-Item temp.txt"
   ]
  },
  {
   "cell_type": "code",
   "execution_count": null,
   "metadata": {
    "dotnet_interactive": {
     "language": "pwsh"
    },
    "polyglot_notebook": {
     "kernelName": "pwsh"
    },
    "vscode": {
     "languageId": "polyglot-notebook"
    }
   },
   "outputs": [],
   "source": []
  }
 ],
 "metadata": {
  "language_info": {
   "name": "python"
  }
 },
 "nbformat": 4,
 "nbformat_minor": 2
}
