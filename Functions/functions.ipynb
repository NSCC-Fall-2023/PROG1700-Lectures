{
 "cells": [
  {
   "cell_type": "code",
   "execution_count": 6,
   "metadata": {
    "dotnet_interactive": {
     "language": "pwsh"
    },
    "polyglot_notebook": {
     "kernelName": "pwsh"
    },
    "vscode": {
     "languageId": "polyglot-notebook"
    }
   },
   "outputs": [
    {
     "name": "stdout",
     "output_type": "stream",
     "text": [
      "436408338\r\n"
     ]
    }
   ],
   "source": [
    "# gives a random number from 0 to 2,147,483,647\n",
    "Get-Random"
   ]
  },
  {
   "cell_type": "code",
   "execution_count": 19,
   "metadata": {
    "dotnet_interactive": {
     "language": "pwsh"
    },
    "polyglot_notebook": {
     "kernelName": "pwsh"
    },
    "vscode": {
     "languageId": "polyglot-notebook"
    }
   },
   "outputs": [
    {
     "name": "stdout",
     "output_type": "stream",
     "text": [
      "2\n",
      "4\n"
     ]
    }
   ],
   "source": [
    "# create a random number between 1 - 10\n",
    "(Get-Random) % 10 + 1\n",
    "Get-Random -Minimum 1 -Maximum 10"
   ]
  },
  {
   "cell_type": "code",
   "execution_count": 20,
   "metadata": {
    "dotnet_interactive": {
     "language": "pwsh"
    },
    "polyglot_notebook": {
     "kernelName": "pwsh"
    },
    "vscode": {
     "languageId": "polyglot-notebook"
    }
   },
   "outputs": [
    {
     "name": "stdout",
     "output_type": "stream",
     "text": [
      "paper\r\n"
     ]
    }
   ],
   "source": [
    "# pick a random item\n",
    "\"rock\", \"paper\", \"scissors\" | Get-Random"
   ]
  },
  {
   "cell_type": "code",
   "execution_count": 23,
   "metadata": {
    "dotnet_interactive": {
     "language": "pwsh"
    },
    "polyglot_notebook": {
     "kernelName": "pwsh"
    },
    "vscode": {
     "languageId": "polyglot-notebook"
    }
   },
   "outputs": [
    {
     "name": "stdout",
     "output_type": "stream",
     "text": [
      "Hello World\n",
      "Hello World\n",
      "Hello World\n"
     ]
    }
   ],
   "source": [
    "# basic function\n",
    "function Write-HelloWorld {\n",
    "    Write-Host \"Hello World\"\n",
    "}\n",
    "Write-HelloWorld\n",
    "Write-HelloWorld\n",
    "Write-HelloWorld"
   ]
  },
  {
   "cell_type": "code",
   "execution_count": 39,
   "metadata": {
    "dotnet_interactive": {
     "language": "pwsh"
    },
    "polyglot_notebook": {
     "kernelName": "pwsh"
    },
    "vscode": {
     "languageId": "polyglot-notebook"
    }
   },
   "outputs": [
    {
     "name": "stdout",
     "output_type": "stream",
     "text": [
      "How did I get here??\n",
      "123\n",
      "789\n",
      "1\n"
     ]
    }
   ],
   "source": [
    "# return statements\n",
    "function Get-Number {\n",
    "    $Random = Get-Random -Minimum 1 -Maximum 5\n",
    "    if ($Random -gt 2) {\n",
    "        return 123\n",
    "    } else {\n",
    "        return 456\n",
    "    }\n",
    "    Write-Host \"How did I get here??\"\n",
    "    if ($Random -lt 4) {\n",
    "        789\n",
    "    } else {\n",
    "        654\n",
    "    }\n",
    "}\n",
    "$Number = Get-Number\n",
    "$Number += 1\n",
    "$Number"
   ]
  },
  {
   "cell_type": "code",
   "execution_count": 43,
   "metadata": {
    "dotnet_interactive": {
     "language": "pwsh"
    },
    "polyglot_notebook": {
     "kernelName": "pwsh"
    },
    "vscode": {
     "languageId": "polyglot-notebook"
    }
   },
   "outputs": [
    {
     "name": "stdout",
     "output_type": "stream",
     "text": [
      "3\r\n"
     ]
    }
   ],
   "source": [
    "# basic parameters\n",
    "function Get-Sum ($a, $b) {\n",
    "    return $a + $b\n",
    "}\n",
    "Get-Sum 1 2"
   ]
  },
  {
   "cell_type": "code",
   "execution_count": 49,
   "metadata": {
    "dotnet_interactive": {
     "language": "pwsh"
    },
    "polyglot_notebook": {
     "kernelName": "pwsh"
    },
    "vscode": {
     "languageId": "polyglot-notebook"
    }
   },
   "outputs": [
    {
     "name": "stdout",
     "output_type": "stream",
     "text": [
      "3\n",
      "\u001b[31;1mGet-Sum: \u001b[0m\n",
      "\u001b[31;1m\u001b[36;1mLine |\u001b[0m\n",
      "\u001b[31;1m\u001b[36;1m\u001b[36;1m   6 | \u001b[0m Get-Sum \u001b[36;1m\"Hello\"\u001b[0m \"World\"\u001b[0m\n",
      "\u001b[31;1m\u001b[36;1m\u001b[36;1m\u001b[0m\u001b[36;1m\u001b[0m\u001b[36;1m     | \u001b[31;1m         ~~~~~~~\u001b[0m\n",
      "\u001b[31;1m\u001b[36;1m\u001b[36;1m\u001b[0m\u001b[36;1m\u001b[0m\u001b[36;1m\u001b[31;1m\u001b[31;1m\u001b[36;1m     | \u001b[31;1mCannot process argument transformation on parameter 'first'. Cannot convert value \"Hello\" to type \"System.Int32\". Error: \"The input string 'Hello' was not in a correct format.\"\u001b[0m\n"
     ]
    },
    {
     "ename": "Error",
     "evalue": "Command failed: SubmitCode: # named parameters ...",
     "output_type": "error",
     "traceback": [
      "Command failed: SubmitCode: # named parameters ..."
     ]
    }
   ],
   "source": [
    "# named parameters\n",
    "function Get-Sum ([int]$first, [int]$second) {\n",
    "    return $first + $second\n",
    "}\n",
    "Get-Sum -second 1 -first 2\n",
    "Get-Sum \"Hello\" \"World\""
   ]
  },
  {
   "cell_type": "code",
   "execution_count": 54,
   "metadata": {
    "dotnet_interactive": {
     "language": "pwsh"
    },
    "polyglot_notebook": {
     "kernelName": "pwsh"
    },
    "vscode": {
     "languageId": "polyglot-notebook"
    }
   },
   "outputs": [
    {
     "name": "stdout",
     "output_type": "stream",
     "text": [
      "3\r\n"
     ]
    }
   ],
   "source": [
    "# PowerShell's preferred parameter list\n",
    "function Get-Sum {\n",
    "    param ([int]$a, [int]$b)\n",
    "    $a + $b\n",
    "}\n",
    "Get-Sum 1 2"
   ]
  },
  {
   "cell_type": "code",
   "execution_count": 59,
   "metadata": {
    "dotnet_interactive": {
     "language": "pwsh"
    },
    "polyglot_notebook": {
     "kernelName": "pwsh"
    },
    "vscode": {
     "languageId": "polyglot-notebook"
    }
   },
   "outputs": [
    {
     "name": "stdout",
     "output_type": "stream",
     "text": [
      "3\r\n"
     ]
    }
   ],
   "source": [
    "# adding attributes to parameters\n",
    "function Get-Sum {\n",
    "    param (\n",
    "        [Parameter(Mandatory)]\n",
    "        [ValidateRange(1,10)]\n",
    "        [int]$a,\n",
    "        [Parameter(Mandatory)]\n",
    "        [ValidateRange(1,10)]\n",
    "        [int]$b\n",
    "    )\n",
    "    $a + $b\n",
    "}\n",
    "Get-Sum 1 2"
   ]
  },
  {
   "cell_type": "code",
   "execution_count": 64,
   "metadata": {
    "dotnet_interactive": {
     "language": "pwsh"
    },
    "polyglot_notebook": {
     "kernelName": "pwsh"
    },
    "vscode": {
     "languageId": "polyglot-notebook"
    }
   },
   "outputs": [
    {
     "name": "stdout",
     "output_type": "stream",
     "text": [
      "55\r\n"
     ]
    }
   ],
   "source": [
    "# positional parameters\n",
    "function Get-Sum {\n",
    "    $Sum = 0\n",
    "    foreach ($arg in $args) {\n",
    "        $Sum += $arg\n",
    "    }\n",
    "    return $Sum\n",
    "}\n",
    "Get-Sum 1 2 3 4 5 6 7 8 9 10"
   ]
  },
  {
   "cell_type": "code",
   "execution_count": 68,
   "metadata": {
    "dotnet_interactive": {
     "language": "pwsh"
    },
    "polyglot_notebook": {
     "kernelName": "pwsh"
    },
    "vscode": {
     "languageId": "polyglot-notebook"
    }
   },
   "outputs": [
    {
     "name": "stdout",
     "output_type": "stream",
     "text": [
      "ReadOnly Unset\r\n"
     ]
    }
   ],
   "source": [
    "# switch parameters\n",
    "function Set-HardDriveReadOnly {\n",
    "    param ( \n",
    "        [switch] $readonly,\n",
    "        [switch] $writeonly,\n",
    "        [switch] $remote,\n",
    "        [switch] $protected\n",
    "    )\n",
    "    if ($readonly) {\n",
    "        Write-Host \"ReadOnly Set\"\n",
    "    } else {\n",
    "        Write-Host \"ReadOnly Unset\"\n",
    "    }\n",
    "}\n",
    "Set-HardDriveReadOnly -readonly -writeonly -remote -protected"
   ]
  },
  {
   "cell_type": "code",
   "execution_count": null,
   "metadata": {
    "dotnet_interactive": {
     "language": "pwsh"
    },
    "polyglot_notebook": {
     "kernelName": "pwsh"
    },
    "vscode": {
     "languageId": "polyglot-notebook"
    }
   },
   "outputs": [],
   "source": []
  }
 ],
 "metadata": {
  "language_info": {
   "name": "python"
  }
 },
 "nbformat": 4,
 "nbformat_minor": 2
}
