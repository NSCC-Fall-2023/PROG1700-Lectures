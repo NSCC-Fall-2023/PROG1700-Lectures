{
 "cells": [
  {
   "cell_type": "markdown",
   "id": "eb3153bc-aff3-4a4e-ba46-ee663db3e59b",
   "metadata": {},
   "source": [
    "This is some sample text...."
   ]
  },
  {
   "cell_type": "code",
   "execution_count": 1,
   "id": "5dd388ef",
   "metadata": {
    "dotnet_interactive": {
     "language": "pwsh"
    },
    "polyglot_notebook": {
     "kernelName": "pwsh"
    },
    "vscode": {
     "languageId": "polyglot-notebook"
    }
   },
   "outputs": [
    {
     "name": "stdout",
     "output_type": "stream",
     "text": [
      "Hello World\r\n"
     ]
    }
   ],
   "source": [
    "# This is my first PowerShell command!\n",
    "Write-Host \"Hello World\""
   ]
  },
  {
   "cell_type": "code",
   "execution_count": 1,
   "metadata": {
    "dotnet_interactive": {
     "language": "pwsh"
    },
    "polyglot_notebook": {
     "kernelName": "pwsh"
    },
    "vscode": {
     "languageId": "polyglot-notebook"
    }
   },
   "outputs": [
    {
     "name": "stdout",
     "output_type": "stream",
     "text": [
      "This is text to output.\r\n"
     ]
    }
   ],
   "source": [
    "# any text should be enclosed in double quotation marks\n",
    "Write-Host \"This is text to output.\""
   ]
  },
  {
   "cell_type": "code",
   "execution_count": 2,
   "metadata": {
    "dotnet_interactive": {
     "language": "pwsh"
    },
    "polyglot_notebook": {
     "kernelName": "pwsh"
    },
    "vscode": {
     "languageId": "polyglot-notebook"
    }
   },
   "outputs": [
    {
     "name": "stdout",
     "output_type": "stream",
     "text": [
      "12345\n",
      "12345\n"
     ]
    }
   ],
   "source": [
    "# any numbers can be either in quotes or without\n",
    "Write-Host \"12345\"\n",
    "Write-Host 12345"
   ]
  },
  {
   "cell_type": "code",
   "execution_count": 5,
   "metadata": {
    "dotnet_interactive": {
     "language": "pwsh"
    },
    "polyglot_notebook": {
     "kernelName": "pwsh"
    },
    "vscode": {
     "languageId": "polyglot-notebook"
    }
   },
   "outputs": [
    {
     "name": "stdout",
     "output_type": "stream",
     "text": [
      "3\r\n"
     ]
    }
   ],
   "source": [
    "# add two numbers together\n",
    "Write-Host (1 + 2)"
   ]
  },
  {
   "cell_type": "code",
   "execution_count": 7,
   "metadata": {
    "dotnet_interactive": {
     "language": "pwsh"
    },
    "polyglot_notebook": {
     "kernelName": "pwsh"
    },
    "vscode": {
     "languageId": "polyglot-notebook"
    }
   },
   "outputs": [
    {
     "name": "stdout",
     "output_type": "stream",
     "text": [
      "12\r\n"
     ]
    }
   ],
   "source": [
    "# \"concatenate\" two numbers together\n",
    "Write-Host (\"1\" + \"2\")"
   ]
  },
  {
   "cell_type": "code",
   "execution_count": 10,
   "metadata": {
    "dotnet_interactive": {
     "language": "pwsh"
    },
    "polyglot_notebook": {
     "kernelName": "pwsh"
    },
    "vscode": {
     "languageId": "polyglot-notebook"
    }
   },
   "outputs": [
    {
     "name": "stdout",
     "output_type": "stream",
     "text": [
      "Street Number:  123\n",
      "Street Number:  123  Somewhere Ave\n",
      "Street Number: 123 Somewhere Ave\n"
     ]
    }
   ],
   "source": [
    "# combine numbers and text together\n",
    "Write-Host \"Street Number: \" 123\n",
    "Write-Host \"Street Number: \" 123 \" Somewhere Ave\"\n",
    "Write-Host \"Street Number: 123 Somewhere Ave\""
   ]
  },
  {
   "cell_type": "code",
   "execution_count": 11,
   "metadata": {
    "dotnet_interactive": {
     "language": "pwsh"
    },
    "polyglot_notebook": {
     "kernelName": "pwsh"
    },
    "vscode": {
     "languageId": "polyglot-notebook"
    }
   },
   "outputs": [
    {
     "name": "stdout",
     "output_type": "stream",
     "text": [
      "Brian\r\n"
     ]
    }
   ],
   "source": [
    "# get input from user\n",
    "Read-Host \"Enter your name: \""
   ]
  },
  {
   "cell_type": "code",
   "execution_count": 14,
   "metadata": {
    "dotnet_interactive": {
     "language": "pwsh"
    },
    "polyglot_notebook": {
     "kernelName": "pwsh"
    },
    "vscode": {
     "languageId": "polyglot-notebook"
    }
   },
   "outputs": [],
   "source": [
    "# a simple variable\n",
    "$x = 5\n",
    "$name = \"Brian\""
   ]
  },
  {
   "cell_type": "code",
   "execution_count": 15,
   "metadata": {
    "dotnet_interactive": {
     "language": "pwsh"
    },
    "polyglot_notebook": {
     "kernelName": "pwsh"
    },
    "vscode": {
     "languageId": "polyglot-notebook"
    }
   },
   "outputs": [
    {
     "name": "stdout",
     "output_type": "stream",
     "text": [
      "\n",
      "\u001b[32;1mName                           Value\u001b[0m\n",
      "\u001b[32;1m----                           -----\u001b[0m\n",
      "?                              True\n",
      "^                              $x\n",
      "$                              Brian\n",
      "args                           {}\n",
      "ConfirmPreference              High\n",
      "DebugPreference                SilentlyContinue\n",
      "EnabledExperimentalFeatures    {}\n",
      "Error                          {}\n",
      "ErrorActionPreference          Continue\n",
      "ErrorView                      ConciseView\n",
      "ExecutionContext               System.Management.Automation.EngineIntrinsics\n",
      "false                          False\n",
      "FormatEnumerationLimit         4\n",
      "HOME                           C:\\Users\\User\n",
      "Host                           System.Management.Automation.Internal.Host.InternalHost\n",
      "InformationPreference          SilentlyContinue\n",
      "input                          System.Collections.ArrayList+ArrayListEnumeratorSimple\n",
      "IsCoreCLR                      True\n",
      "IsLinux                        False\n",
      "IsMacOS                        False\n",
      "IsWindows                      True\n",
      "MaximumHistoryCount            4096\n",
      "MyInvocation                   System.Management.Automation.InvocationInfo\n",
      "name                           Brian\n",
      "NestedPromptLevel              0\n",
      "null                           \n",
      "OutputEncoding                 System.Text.UTF8Encoding\n",
      "PID                            9600\n",
      "PROFILE                        C:\\Users\\User\\Documents\\PowerShell\\Microsoft.dotnet-interactive_pro…\n",
      "ProgressPreference             Continue\n",
      "PSBoundParameters              {}\n",
      "PSCommandPath                  \n",
      "PSCulture                      en\n",
      "PSDefaultParameterValues       {}\n",
      "PSEdition                      Core\n",
      "PSEmailServer                  \n",
      "PSHOME                         C:\\Users\\User\\.nuget\\packages\\microsoft.dotnet-interactive\\1.0.4461…\n",
      "PSNativeCommandArgumentPassing Windows\n",
      "PSScriptRoot                   \n",
      "PSSessionApplicationName       wsman\n",
      "PSSessionConfigurationName     http://schemas.microsoft.com/powershell/Microsoft.PowerShell\n",
      "PSSessionOption                System.Management.Automation.Remoting.PSSessionOption\n",
      "PSStyle                        System.Management.Automation.PSStyle\n",
      "PSUICulture                    en\n",
      "PSVersionTable                 {[PSVersion, 7.3.6], [PSEdition, Core], [GitCommitId, 7.3.6], [OS, …\n",
      "PWD                            Z:\\PROG1700\\PowerShell Basics\n",
      "ShellId                        Microsoft.PowerShell\n",
      "StackTrace                     \n",
      "true                           True\n",
      "VerbosePreference              SilentlyContinue\n",
      "WarningPreference              Continue\n",
      "WhatIfPreference               False\n",
      "x                              5\n",
      "\n"
     ]
    }
   ],
   "source": [
    "# list all variables\n",
    "Get-Variable"
   ]
  },
  {
   "cell_type": "code",
   "execution_count": null,
   "id": "1100658a",
   "metadata": {
    "vscode": {
     "languageId": "polyglot-notebook"
    }
   },
   "outputs": [],
   "source": []
  }
 ],
 "metadata": {
  "kernelspec": {
   "display_name": ".NET (C#)",
   "language": "C#",
   "name": ".net-csharp"
  },
  "language_info": {
   "file_extension": ".ps1",
   "mimetype": "text/x-powershell",
   "name": "PowerShell",
   "pygments_lexer": "powershell",
   "version": "7.0"
  },
  "polyglot_notebook": {
   "kernelInfo": {
    "defaultKernelName": "powershell",
    "items": [
     {
      "aliases": [],
      "name": "powershell"
     }
    ]
   }
  }
 },
 "nbformat": 4,
 "nbformat_minor": 5
}
