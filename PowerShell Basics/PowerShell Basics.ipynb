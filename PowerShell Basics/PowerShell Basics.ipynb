{
 "cells": [
  {
   "cell_type": "markdown",
   "id": "eb3153bc-aff3-4a4e-ba46-ee663db3e59b",
   "metadata": {},
   "source": [
    "This is some sample text...."
   ]
  },
  {
   "cell_type": "code",
   "execution_count": 1,
   "id": "5dd388ef",
   "metadata": {
    "dotnet_interactive": {
     "language": "pwsh"
    },
    "polyglot_notebook": {
     "kernelName": "pwsh"
    },
    "vscode": {
     "languageId": "polyglot-notebook"
    }
   },
   "outputs": [
    {
     "name": "stdout",
     "output_type": "stream",
     "text": [
      "Hello World\r\n"
     ]
    }
   ],
   "source": [
    "# This is my first PowerShell command!\n",
    "Write-Host \"Hello World\""
   ]
  },
  {
   "cell_type": "code",
   "execution_count": 1,
   "id": "2e09724e",
   "metadata": {
    "dotnet_interactive": {
     "language": "pwsh"
    },
    "polyglot_notebook": {
     "kernelName": "pwsh"
    },
    "vscode": {
     "languageId": "polyglot-notebook"
    }
   },
   "outputs": [
    {
     "name": "stdout",
     "output_type": "stream",
     "text": [
      "This is text to output.\r\n"
     ]
    }
   ],
   "source": [
    "# any text should be enclosed in double quotation marks\n",
    "Write-Host \"This is text to output.\""
   ]
  },
  {
   "cell_type": "code",
   "execution_count": 2,
   "id": "0d312076",
   "metadata": {
    "dotnet_interactive": {
     "language": "pwsh"
    },
    "polyglot_notebook": {
     "kernelName": "pwsh"
    },
    "vscode": {
     "languageId": "polyglot-notebook"
    }
   },
   "outputs": [
    {
     "name": "stdout",
     "output_type": "stream",
     "text": [
      "12345\n",
      "12345\n"
     ]
    }
   ],
   "source": [
    "# any numbers can be either in quotes or without\n",
    "Write-Host \"12345\"\n",
    "Write-Host 12345"
   ]
  },
  {
   "cell_type": "code",
   "execution_count": 5,
   "id": "18b09fa7",
   "metadata": {
    "dotnet_interactive": {
     "language": "pwsh"
    },
    "polyglot_notebook": {
     "kernelName": "pwsh"
    },
    "vscode": {
     "languageId": "polyglot-notebook"
    }
   },
   "outputs": [
    {
     "name": "stdout",
     "output_type": "stream",
     "text": [
      "3\r\n"
     ]
    }
   ],
   "source": [
    "# add two numbers together\n",
    "Write-Host (1 + 2)"
   ]
  },
  {
   "cell_type": "code",
   "execution_count": 7,
   "id": "1677e2cc",
   "metadata": {
    "dotnet_interactive": {
     "language": "pwsh"
    },
    "polyglot_notebook": {
     "kernelName": "pwsh"
    },
    "vscode": {
     "languageId": "polyglot-notebook"
    }
   },
   "outputs": [
    {
     "name": "stdout",
     "output_type": "stream",
     "text": [
      "12\r\n"
     ]
    }
   ],
   "source": [
    "# \"concatenate\" two numbers together\n",
    "Write-Host (\"1\" + \"2\")"
   ]
  },
  {
   "cell_type": "code",
   "execution_count": 10,
   "id": "c35a336e",
   "metadata": {
    "dotnet_interactive": {
     "language": "pwsh"
    },
    "polyglot_notebook": {
     "kernelName": "pwsh"
    },
    "vscode": {
     "languageId": "polyglot-notebook"
    }
   },
   "outputs": [
    {
     "name": "stdout",
     "output_type": "stream",
     "text": [
      "Street Number:  123\n",
      "Street Number:  123  Somewhere Ave\n",
      "Street Number: 123 Somewhere Ave\n"
     ]
    }
   ],
   "source": [
    "# combine numbers and text together\n",
    "Write-Host \"Street Number: \" 123\n",
    "Write-Host \"Street Number: \" 123 \" Somewhere Ave\"\n",
    "Write-Host \"Street Number: 123 Somewhere Ave\""
   ]
  },
  {
   "cell_type": "code",
   "execution_count": 11,
   "id": "c01ac2c9",
   "metadata": {
    "dotnet_interactive": {
     "language": "pwsh"
    },
    "polyglot_notebook": {
     "kernelName": "pwsh"
    },
    "vscode": {
     "languageId": "polyglot-notebook"
    }
   },
   "outputs": [
    {
     "name": "stdout",
     "output_type": "stream",
     "text": [
      "Brian\r\n"
     ]
    }
   ],
   "source": [
    "# get input from user\n",
    "Read-Host \"Enter your name: \""
   ]
  },
  {
   "cell_type": "code",
   "execution_count": 16,
   "id": "7c7a94bc",
   "metadata": {
    "dotnet_interactive": {
     "language": "pwsh"
    },
    "polyglot_notebook": {
     "kernelName": "pwsh"
    },
    "vscode": {
     "languageId": "polyglot-notebook"
    }
   },
   "outputs": [],
   "source": [
    "# a simple variable\n",
    "$x = 5\n",
    "$name = \"Brian\""
   ]
  },
  {
   "cell_type": "code",
   "execution_count": 17,
   "id": "dd226901",
   "metadata": {
    "dotnet_interactive": {
     "language": "pwsh"
    },
    "polyglot_notebook": {
     "kernelName": "pwsh"
    },
    "vscode": {
     "languageId": "polyglot-notebook"
    }
   },
   "outputs": [
    {
     "name": "stdout",
     "output_type": "stream",
     "text": [
      "\n",
      "\u001b[32;1mName                           Value\u001b[0m\n",
      "\u001b[32;1m----                           -----\u001b[0m\n",
      "?                              True\n",
      "^                              $5\n",
      "$                              Brian\n",
      "5                              5\n",
      "args                           {}\n",
      "ConfirmPreference              High\n",
      "DebugPreference                SilentlyContinue\n",
      "EnabledExperimentalFeatures    {}\n",
      "Error                          {}\n",
      "ErrorActionPreference          Continue\n",
      "ErrorView                      ConciseView\n",
      "ExecutionContext               System.Management.Automation.EngineIntrinsics\n",
      "false                          False\n",
      "FormatEnumerationLimit         4\n",
      "HOME                           C:\\Users\\User\n",
      "Host                           System.Management.Automation.Internal.Host.InternalHost\n",
      "InformationPreference          SilentlyContinue\n",
      "input                          System.Collections.ArrayList+ArrayListEnumeratorSimple\n",
      "IsCoreCLR                      True\n",
      "IsLinux                        False\n",
      "IsMacOS                        False\n",
      "IsWindows                      True\n",
      "MaximumHistoryCount            4096\n",
      "MyInvocation                   System.Management.Automation.InvocationInfo\n",
      "name                           Brian\n",
      "NestedPromptLevel              0\n",
      "null                           \n",
      "OutputEncoding                 System.Text.UTF8Encoding\n",
      "PID                            9600\n",
      "PROFILE                        C:\\Users\\User\\Documents\\PowerShell\\Microsoft.dotnet-interactive_pro…\n",
      "ProgressPreference             Continue\n",
      "PSBoundParameters              {}\n",
      "PSCommandPath                  \n",
      "PSCulture                      en\n",
      "PSDefaultParameterValues       {}\n",
      "PSEdition                      Core\n",
      "PSEmailServer                  \n",
      "PSHOME                         C:\\Users\\User\\.nuget\\packages\\microsoft.dotnet-interactive\\1.0.4461…\n",
      "PSNativeCommandArgumentPassing Windows\n",
      "PSScriptRoot                   \n",
      "PSSessionApplicationName       wsman\n",
      "PSSessionConfigurationName     http://schemas.microsoft.com/powershell/Microsoft.PowerShell\n",
      "PSSessionOption                System.Management.Automation.Remoting.PSSessionOption\n",
      "PSStyle                        System.Management.Automation.PSStyle\n",
      "PSUICulture                    en\n",
      "PSVersionTable                 {[PSVersion, 7.3.6], [PSEdition, Core], [GitCommitId, 7.3.6], [OS, …\n",
      "PWD                            Z:\\PROG1700\\PowerShell Basics\n",
      "ShellId                        Microsoft.PowerShell\n",
      "StackTrace                     \n",
      "true                           True\n",
      "VerbosePreference              SilentlyContinue\n",
      "WarningPreference              Continue\n",
      "WhatIfPreference               False\n",
      "x                              5\n",
      "\n"
     ]
    }
   ],
   "source": [
    "# list all variables\n",
    "Get-Variable"
   ]
  },
  {
   "cell_type": "code",
   "execution_count": 21,
   "id": "9f8aa72f",
   "metadata": {
    "dotnet_interactive": {
     "language": "pwsh"
    },
    "polyglot_notebook": {
     "kernelName": "pwsh"
    },
    "vscode": {
     "languageId": "polyglot-notebook"
    }
   },
   "outputs": [],
   "source": [
    "# bad variable names\n",
    "\n",
    "# don't use just a number\n",
    "$5 = 123\n",
    "\n",
    "# don't have spaces in the names\n",
    "#$\"Street Address\" = \"5685 Leeds St.\"\n",
    "\n",
    "# don't include special characters (!@#$%^&*()+={}\\/?)\n",
    "#$money$ = 123.45\n",
    "\n",
    "# an exception is underscores (_)\n",
    "$I_LIKE_PIE = \"blueberry\""
   ]
  },
  {
   "cell_type": "code",
   "execution_count": 24,
   "id": "e44c178a",
   "metadata": {
    "dotnet_interactive": {
     "language": "pwsh"
    },
    "polyglot_notebook": {
     "kernelName": "pwsh"
    },
    "vscode": {
     "languageId": "polyglot-notebook"
    }
   },
   "outputs": [
    {
     "name": "stdout",
     "output_type": "stream",
     "text": [
      "C:\\Users\\User\\Documents\\PowerShell\\Microsoft.dotnet-interactive_profile.ps1\n",
      "C:\\Users\\User\\Documents\\PowerShell\\Microsoft.dotnet-interactive_profile.ps1\n"
     ]
    }
   ],
   "source": [
    "Write-Host $PROFILE\n",
    "Write-Host $profile"
   ]
  },
  {
   "cell_type": "code",
   "execution_count": 26,
   "id": "f2d8fdcb",
   "metadata": {
    "dotnet_interactive": {
     "language": "pwsh"
    },
    "polyglot_notebook": {
     "kernelName": "pwsh"
    },
    "vscode": {
     "languageId": "polyglot-notebook"
    }
   },
   "outputs": [
    {
     "name": "stdout",
     "output_type": "stream",
     "text": [
      "123 +999 -555 0 13123123123123123123\r\n"
     ]
    }
   ],
   "source": [
    "# integers\n",
    "Write-Host 123 +999 -555 0 13123123123123123123"
   ]
  },
  {
   "cell_type": "code",
   "execution_count": 30,
   "id": "01c0ace6",
   "metadata": {
    "dotnet_interactive": {
     "language": "pwsh"
    },
    "polyglot_notebook": {
     "kernelName": "pwsh"
    },
    "vscode": {
     "languageId": "polyglot-notebook"
    }
   },
   "outputs": [
    {
     "name": "stdout",
     "output_type": "stream",
     "text": [
      "True\n",
      "\n",
      "\u001b[32;1mIsPublic IsSerial Name                                     BaseType\u001b[0m\n",
      "\u001b[32;1m-------- -------- ----                                     --------\u001b[0m\n",
      "True     True     Boolean                                  System.ValueType\n",
      "\n"
     ]
    }
   ],
   "source": [
    "# boolean values\n",
    "$True\n",
    "$False.GetType()"
   ]
  },
  {
   "cell_type": "code",
   "execution_count": 1,
   "metadata": {
    "dotnet_interactive": {
     "language": "pwsh"
    },
    "polyglot_notebook": {
     "kernelName": "pwsh"
    },
    "vscode": {
     "languageId": "polyglot-notebook"
    }
   },
   "outputs": [
    {
     "name": "stdout",
     "output_type": "stream",
     "text": [
      "5551212 System.Int32\r\n"
     ]
    }
   ],
   "source": [
    "$PhoneNumber = 5551212\n",
    "Write-Host $PhoneNumber $PhoneNumber.GetType()"
   ]
  },
  {
   "cell_type": "code",
   "execution_count": 2,
   "metadata": {
    "dotnet_interactive": {
     "language": "pwsh"
    },
    "polyglot_notebook": {
     "kernelName": "pwsh"
    },
    "vscode": {
     "languageId": "polyglot-notebook"
    }
   },
   "outputs": [
    {
     "name": "stdout",
     "output_type": "stream",
     "text": [
      "5551212 System.Double\r\n"
     ]
    }
   ],
   "source": [
    "[double]$PhoneNumber = 5551212\n",
    "Write-Host $PhoneNumber $PhoneNumber.GetType()"
   ]
  },
  {
   "cell_type": "code",
   "execution_count": 4,
   "metadata": {
    "dotnet_interactive": {
     "language": "pwsh"
    },
    "polyglot_notebook": {
     "kernelName": "pwsh"
    },
    "vscode": {
     "languageId": "polyglot-notebook"
    }
   },
   "outputs": [
    {
     "name": "stdout",
     "output_type": "stream",
     "text": [
      "5551212 System.String\r\n"
     ]
    }
   ],
   "source": [
    "[string]$PhoneNumber = 5551212\n",
    "Write-Host $PhoneNumber $PhoneNumber.GetType()"
   ]
  },
  {
   "cell_type": "code",
   "execution_count": 6,
   "metadata": {
    "dotnet_interactive": {
     "language": "pwsh"
    },
    "polyglot_notebook": {
     "kernelName": "pwsh"
    },
    "vscode": {
     "languageId": "polyglot-notebook"
    }
   },
   "outputs": [
    {
     "name": "stdout",
     "output_type": "stream",
     "text": [
      "5551212 System.Int32\r\n"
     ]
    }
   ],
   "source": [
    "[int]$PhoneNumber = \"5551212\"\n",
    "Write-Host $PhoneNumber $PhoneNumber.GetType()"
   ]
  },
  {
   "cell_type": "code",
   "execution_count": 8,
   "metadata": {
    "dotnet_interactive": {
     "language": "pwsh"
    },
    "polyglot_notebook": {
     "kernelName": "pwsh"
    },
    "vscode": {
     "languageId": "polyglot-notebook"
    }
   },
   "outputs": [
    {
     "name": "stdout",
     "output_type": "stream",
     "text": [
      "True System.Boolean\r\n"
     ]
    }
   ],
   "source": [
    "[boolean]$PhoneNumber = 5551212\n",
    "Write-Host $PhoneNumber $PhoneNumber.GetType()"
   ]
  },
  {
   "cell_type": "code",
   "execution_count": 15,
   "metadata": {
    "dotnet_interactive": {
     "language": "pwsh"
    },
    "polyglot_notebook": {
     "kernelName": "pwsh"
    },
    "vscode": {
     "languageId": "polyglot-notebook"
    }
   },
   "outputs": [
    {
     "name": "stdout",
     "output_type": "stream",
     "text": [
      "False\n",
      "False\n",
      "True\n"
     ]
    }
   ],
   "source": [
    "[boolean](0)\n",
    "[boolean](\"\")\n",
    "[boolean](0.0)\n"
   ]
  },
  {
   "cell_type": "code",
   "execution_count": 19,
   "metadata": {
    "dotnet_interactive": {
     "language": "pwsh"
    },
    "polyglot_notebook": {
     "kernelName": "pwsh"
    },
    "vscode": {
     "languageId": "polyglot-notebook"
    }
   },
   "outputs": [
    {
     "name": "stdout",
     "output_type": "stream",
     "text": [
      "3346853265408\r\n"
     ]
    }
   ],
   "source": [
    "# datatype multiplier\n",
    "45gb + 3tb"
   ]
  },
  {
   "cell_type": "code",
   "execution_count": 21,
   "metadata": {
    "dotnet_interactive": {
     "language": "pwsh"
    },
    "polyglot_notebook": {
     "kernelName": "pwsh"
    },
    "vscode": {
     "languageId": "polyglot-notebook"
    }
   },
   "outputs": [
    {
     "name": "stdout",
     "output_type": "stream",
     "text": [
      "36 TB\r\n"
     ]
    }
   ],
   "source": [
    "# go the other way\n",
    "$HardDrive = 36tb\n",
    "Write-Host ($HardDrive / 1tb) \"TB\""
   ]
  },
  {
   "cell_type": "code",
   "execution_count": 26,
   "metadata": {
    "dotnet_interactive": {
     "language": "pwsh"
    },
    "polyglot_notebook": {
     "kernelName": "pwsh"
    },
    "vscode": {
     "languageId": "polyglot-notebook"
    }
   },
   "outputs": [
    {
     "name": "stdout",
     "output_type": "stream",
     "text": [
      "3\n",
      "4\n",
      "4\n",
      "5\n",
      "3.33333333333333\n",
      "3\n",
      "1\n"
     ]
    }
   ],
   "source": [
    "# math operations\n",
    "1 + 2\n",
    "2 * 2\n",
    "10 - 6\n",
    "100 / 20\n",
    "10 / 3\n",
    "[int](10 / 3)\n",
    "10 % 3 # modulus division gives the remainder of a division"
   ]
  },
  {
   "cell_type": "code",
   "execution_count": null,
   "metadata": {
    "dotnet_interactive": {
     "language": "pwsh"
    },
    "polyglot_notebook": {
     "kernelName": "pwsh"
    },
    "vscode": {
     "languageId": "polyglot-notebook"
    }
   },
   "outputs": [],
   "source": [
    "# order of operations\n",
    "2 * 2 + 6^2 / (4 - 32)"
   ]
  },
  {
   "cell_type": "code",
   "execution_count": 27,
   "metadata": {
    "dotnet_interactive": {
     "language": "pwsh"
    },
    "polyglot_notebook": {
     "kernelName": "pwsh"
    },
    "vscode": {
     "languageId": "polyglot-notebook"
    }
   },
   "outputs": [
    {
     "name": "stdout",
     "output_type": "stream",
     "text": [
      "36\r\n"
     ]
    }
   ],
   "source": [
    "# exponents\n",
    "[Math]::pow(6, 2)"
   ]
  },
  {
   "cell_type": "code",
   "execution_count": 28,
   "metadata": {
    "dotnet_interactive": {
     "language": "pwsh"
    },
    "polyglot_notebook": {
     "kernelName": "pwsh"
    },
    "vscode": {
     "languageId": "polyglot-notebook"
    }
   },
   "outputs": [
    {
     "name": "stdout",
     "output_type": "stream",
     "text": [
      "2.71428571428571\r\n"
     ]
    }
   ],
   "source": [
    "2 * 2 + [Math]::pow(6, 2) / (4 - 32)"
   ]
  },
  {
   "cell_type": "code",
   "execution_count": null,
   "id": "bc88e6c7",
   "metadata": {
    "vscode": {
     "languageId": "polyglot-notebook"
    }
   },
   "outputs": [],
   "source": []
  }
 ],
 "metadata": {
  "kernelspec": {
   "display_name": ".NET (C#)",
   "language": "C#",
   "name": ".net-csharp"
  },
  "language_info": {
   "file_extension": ".ps1",
   "mimetype": "text/x-powershell",
   "name": "PowerShell",
   "pygments_lexer": "powershell",
   "version": "7.0"
  }
 },
 "nbformat": 4,
 "nbformat_minor": 5
}
