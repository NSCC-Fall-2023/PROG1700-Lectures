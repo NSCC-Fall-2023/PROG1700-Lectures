{
 "cells": [
  {
   "cell_type": "markdown",
   "id": "eb3153bc-aff3-4a4e-ba46-ee663db3e59b",
   "metadata": {},
   "source": [
    "This is some sample text...."
   ]
  },
  {
   "cell_type": "code",
   "execution_count": 29,
   "id": "5dd388ef",
   "metadata": {
    "dotnet_interactive": {
     "language": "pwsh"
    },
    "polyglot_notebook": {
     "kernelName": "pwsh"
    },
    "vscode": {
     "languageId": "polyglot-notebook"
    }
   },
   "outputs": [
    {
     "name": "stdout",
     "output_type": "stream",
     "text": [
      "Hello World\r\n"
     ]
    }
   ],
   "source": [
    "# This is my first PowerShell command!\n",
    "Write-Host \"Hello World\""
   ]
  },
  {
   "cell_type": "code",
   "execution_count": 30,
   "id": "2e09724e",
   "metadata": {
    "dotnet_interactive": {
     "language": "pwsh"
    },
    "polyglot_notebook": {
     "kernelName": "pwsh"
    },
    "vscode": {
     "languageId": "polyglot-notebook"
    }
   },
   "outputs": [
    {
     "name": "stdout",
     "output_type": "stream",
     "text": [
      "This is text to output.\r\n"
     ]
    }
   ],
   "source": [
    "# any text should be enclosed in double quotation marks\n",
    "Write-Host \"This is text to output.\""
   ]
  },
  {
   "cell_type": "code",
   "execution_count": 31,
   "id": "0d312076",
   "metadata": {
    "dotnet_interactive": {
     "language": "pwsh"
    },
    "polyglot_notebook": {
     "kernelName": "pwsh"
    },
    "vscode": {
     "languageId": "polyglot-notebook"
    }
   },
   "outputs": [
    {
     "name": "stdout",
     "output_type": "stream",
     "text": [
      "12345\n",
      "12345\n"
     ]
    }
   ],
   "source": [
    "# any numbers can be either in quotes or without\n",
    "Write-Host \"12345\"\n",
    "Write-Host 12345"
   ]
  },
  {
   "cell_type": "code",
   "execution_count": 5,
   "id": "18b09fa7",
   "metadata": {
    "dotnet_interactive": {
     "language": "pwsh"
    },
    "polyglot_notebook": {
     "kernelName": "pwsh"
    },
    "vscode": {
     "languageId": "polyglot-notebook"
    }
   },
   "outputs": [
    {
     "name": "stdout",
     "output_type": "stream",
     "text": [
      "3\r\n"
     ]
    }
   ],
   "source": [
    "# add two numbers together\n",
    "Write-Host (1 + 2)"
   ]
  },
  {
   "cell_type": "code",
   "execution_count": 7,
   "id": "1677e2cc",
   "metadata": {
    "dotnet_interactive": {
     "language": "pwsh"
    },
    "polyglot_notebook": {
     "kernelName": "pwsh"
    },
    "vscode": {
     "languageId": "polyglot-notebook"
    }
   },
   "outputs": [
    {
     "name": "stdout",
     "output_type": "stream",
     "text": [
      "12\r\n"
     ]
    }
   ],
   "source": [
    "# \"concatenate\" two numbers together\n",
    "Write-Host (\"1\" + \"2\")"
   ]
  },
  {
   "cell_type": "code",
   "execution_count": 10,
   "id": "c35a336e",
   "metadata": {
    "dotnet_interactive": {
     "language": "pwsh"
    },
    "polyglot_notebook": {
     "kernelName": "pwsh"
    },
    "vscode": {
     "languageId": "polyglot-notebook"
    }
   },
   "outputs": [
    {
     "name": "stdout",
     "output_type": "stream",
     "text": [
      "Street Number:  123\n",
      "Street Number:  123  Somewhere Ave\n",
      "Street Number: 123 Somewhere Ave\n"
     ]
    }
   ],
   "source": [
    "# combine numbers and text together\n",
    "Write-Host \"Street Number: \" 123\n",
    "Write-Host \"Street Number: \" 123 \" Somewhere Ave\"\n",
    "Write-Host \"Street Number: 123 Somewhere Ave\""
   ]
  },
  {
   "cell_type": "code",
   "execution_count": 11,
   "id": "c01ac2c9",
   "metadata": {
    "dotnet_interactive": {
     "language": "pwsh"
    },
    "polyglot_notebook": {
     "kernelName": "pwsh"
    },
    "vscode": {
     "languageId": "polyglot-notebook"
    }
   },
   "outputs": [
    {
     "name": "stdout",
     "output_type": "stream",
     "text": [
      "Brian\r\n"
     ]
    }
   ],
   "source": [
    "# get input from user\n",
    "Read-Host \"Enter your name: \""
   ]
  },
  {
   "cell_type": "code",
   "execution_count": 16,
   "id": "7c7a94bc",
   "metadata": {
    "dotnet_interactive": {
     "language": "pwsh"
    },
    "polyglot_notebook": {
     "kernelName": "pwsh"
    },
    "vscode": {
     "languageId": "polyglot-notebook"
    }
   },
   "outputs": [],
   "source": [
    "# a simple variable\n",
    "$x = 5\n",
    "$name = \"Brian\""
   ]
  },
  {
   "cell_type": "code",
   "execution_count": 17,
   "id": "dd226901",
   "metadata": {
    "dotnet_interactive": {
     "language": "pwsh"
    },
    "polyglot_notebook": {
     "kernelName": "pwsh"
    },
    "vscode": {
     "languageId": "polyglot-notebook"
    }
   },
   "outputs": [
    {
     "name": "stdout",
     "output_type": "stream",
     "text": [
      "\n",
      "\u001b[32;1mName                           Value\u001b[0m\n",
      "\u001b[32;1m----                           -----\u001b[0m\n",
      "?                              True\n",
      "^                              $5\n",
      "$                              Brian\n",
      "5                              5\n",
      "args                           {}\n",
      "ConfirmPreference              High\n",
      "DebugPreference                SilentlyContinue\n",
      "EnabledExperimentalFeatures    {}\n",
      "Error                          {}\n",
      "ErrorActionPreference          Continue\n",
      "ErrorView                      ConciseView\n",
      "ExecutionContext               System.Management.Automation.EngineIntrinsics\n",
      "false                          False\n",
      "FormatEnumerationLimit         4\n",
      "HOME                           C:\\Users\\User\n",
      "Host                           System.Management.Automation.Internal.Host.InternalHost\n",
      "InformationPreference          SilentlyContinue\n",
      "input                          System.Collections.ArrayList+ArrayListEnumeratorSimple\n",
      "IsCoreCLR                      True\n",
      "IsLinux                        False\n",
      "IsMacOS                        False\n",
      "IsWindows                      True\n",
      "MaximumHistoryCount            4096\n",
      "MyInvocation                   System.Management.Automation.InvocationInfo\n",
      "name                           Brian\n",
      "NestedPromptLevel              0\n",
      "null                           \n",
      "OutputEncoding                 System.Text.UTF8Encoding\n",
      "PID                            9600\n",
      "PROFILE                        C:\\Users\\User\\Documents\\PowerShell\\Microsoft.dotnet-interactive_pro…\n",
      "ProgressPreference             Continue\n",
      "PSBoundParameters              {}\n",
      "PSCommandPath                  \n",
      "PSCulture                      en\n",
      "PSDefaultParameterValues       {}\n",
      "PSEdition                      Core\n",
      "PSEmailServer                  \n",
      "PSHOME                         C:\\Users\\User\\.nuget\\packages\\microsoft.dotnet-interactive\\1.0.4461…\n",
      "PSNativeCommandArgumentPassing Windows\n",
      "PSScriptRoot                   \n",
      "PSSessionApplicationName       wsman\n",
      "PSSessionConfigurationName     http://schemas.microsoft.com/powershell/Microsoft.PowerShell\n",
      "PSSessionOption                System.Management.Automation.Remoting.PSSessionOption\n",
      "PSStyle                        System.Management.Automation.PSStyle\n",
      "PSUICulture                    en\n",
      "PSVersionTable                 {[PSVersion, 7.3.6], [PSEdition, Core], [GitCommitId, 7.3.6], [OS, …\n",
      "PWD                            Z:\\PROG1700\\PowerShell Basics\n",
      "ShellId                        Microsoft.PowerShell\n",
      "StackTrace                     \n",
      "true                           True\n",
      "VerbosePreference              SilentlyContinue\n",
      "WarningPreference              Continue\n",
      "WhatIfPreference               False\n",
      "x                              5\n",
      "\n"
     ]
    }
   ],
   "source": [
    "# list all variables\n",
    "Get-Variable"
   ]
  },
  {
   "cell_type": "code",
   "execution_count": 21,
   "id": "9f8aa72f",
   "metadata": {
    "dotnet_interactive": {
     "language": "pwsh"
    },
    "polyglot_notebook": {
     "kernelName": "pwsh"
    },
    "vscode": {
     "languageId": "polyglot-notebook"
    }
   },
   "outputs": [],
   "source": [
    "# bad variable names\n",
    "\n",
    "# don't use just a number\n",
    "$5 = 123\n",
    "\n",
    "# don't have spaces in the names\n",
    "#$\"Street Address\" = \"5685 Leeds St.\"\n",
    "\n",
    "# don't include special characters (!@#$%^&*()+={}\\/?)\n",
    "#$money$ = 123.45\n",
    "\n",
    "# an exception is underscores (_)\n",
    "$I_LIKE_PIE = \"blueberry\""
   ]
  },
  {
   "cell_type": "code",
   "execution_count": 24,
   "id": "e44c178a",
   "metadata": {
    "dotnet_interactive": {
     "language": "pwsh"
    },
    "polyglot_notebook": {
     "kernelName": "pwsh"
    },
    "vscode": {
     "languageId": "polyglot-notebook"
    }
   },
   "outputs": [
    {
     "name": "stdout",
     "output_type": "stream",
     "text": [
      "C:\\Users\\User\\Documents\\PowerShell\\Microsoft.dotnet-interactive_profile.ps1\n",
      "C:\\Users\\User\\Documents\\PowerShell\\Microsoft.dotnet-interactive_profile.ps1\n"
     ]
    }
   ],
   "source": [
    "Write-Host $PROFILE\n",
    "Write-Host $profile"
   ]
  },
  {
   "cell_type": "code",
   "execution_count": 26,
   "id": "f2d8fdcb",
   "metadata": {
    "dotnet_interactive": {
     "language": "pwsh"
    },
    "polyglot_notebook": {
     "kernelName": "pwsh"
    },
    "vscode": {
     "languageId": "polyglot-notebook"
    }
   },
   "outputs": [
    {
     "name": "stdout",
     "output_type": "stream",
     "text": [
      "123 +999 -555 0 13123123123123123123\r\n"
     ]
    }
   ],
   "source": [
    "# integers\n",
    "Write-Host 123 +999 -555 0 13123123123123123123"
   ]
  },
  {
   "cell_type": "code",
   "execution_count": 30,
   "id": "01c0ace6",
   "metadata": {
    "dotnet_interactive": {
     "language": "pwsh"
    },
    "polyglot_notebook": {
     "kernelName": "pwsh"
    },
    "vscode": {
     "languageId": "polyglot-notebook"
    }
   },
   "outputs": [
    {
     "name": "stdout",
     "output_type": "stream",
     "text": [
      "True\n",
      "\n",
      "\u001b[32;1mIsPublic IsSerial Name                                     BaseType\u001b[0m\n",
      "\u001b[32;1m-------- -------- ----                                     --------\u001b[0m\n",
      "True     True     Boolean                                  System.ValueType\n",
      "\n"
     ]
    }
   ],
   "source": [
    "# boolean values\n",
    "$True\n",
    "$False.GetType()"
   ]
  },
  {
   "cell_type": "code",
   "execution_count": 1,
   "id": "d2121973",
   "metadata": {
    "dotnet_interactive": {
     "language": "pwsh"
    },
    "polyglot_notebook": {
     "kernelName": "pwsh"
    },
    "vscode": {
     "languageId": "polyglot-notebook"
    }
   },
   "outputs": [
    {
     "name": "stdout",
     "output_type": "stream",
     "text": [
      "5551212 System.Int32\r\n"
     ]
    }
   ],
   "source": [
    "$PhoneNumber = 5551212\n",
    "Write-Host $PhoneNumber $PhoneNumber.GetType()"
   ]
  },
  {
   "cell_type": "code",
   "execution_count": 2,
   "id": "946ab64e",
   "metadata": {
    "dotnet_interactive": {
     "language": "pwsh"
    },
    "polyglot_notebook": {
     "kernelName": "pwsh"
    },
    "vscode": {
     "languageId": "polyglot-notebook"
    }
   },
   "outputs": [
    {
     "name": "stdout",
     "output_type": "stream",
     "text": [
      "5551212 System.Double\r\n"
     ]
    }
   ],
   "source": [
    "[double]$PhoneNumber = 5551212\n",
    "Write-Host $PhoneNumber $PhoneNumber.GetType()"
   ]
  },
  {
   "cell_type": "code",
   "execution_count": 4,
   "id": "1bba0dfe",
   "metadata": {
    "dotnet_interactive": {
     "language": "pwsh"
    },
    "polyglot_notebook": {
     "kernelName": "pwsh"
    },
    "vscode": {
     "languageId": "polyglot-notebook"
    }
   },
   "outputs": [
    {
     "name": "stdout",
     "output_type": "stream",
     "text": [
      "5551212 System.String\r\n"
     ]
    }
   ],
   "source": [
    "[string]$PhoneNumber = 5551212\n",
    "Write-Host $PhoneNumber $PhoneNumber.GetType()"
   ]
  },
  {
   "cell_type": "code",
   "execution_count": 6,
   "id": "b226591c",
   "metadata": {
    "dotnet_interactive": {
     "language": "pwsh"
    },
    "polyglot_notebook": {
     "kernelName": "pwsh"
    },
    "vscode": {
     "languageId": "polyglot-notebook"
    }
   },
   "outputs": [
    {
     "name": "stdout",
     "output_type": "stream",
     "text": [
      "5551212 System.Int32\r\n"
     ]
    }
   ],
   "source": [
    "[int]$PhoneNumber = \"5551212\"\n",
    "Write-Host $PhoneNumber $PhoneNumber.GetType()"
   ]
  },
  {
   "cell_type": "code",
   "execution_count": 8,
   "id": "b7767c80",
   "metadata": {
    "dotnet_interactive": {
     "language": "pwsh"
    },
    "polyglot_notebook": {
     "kernelName": "pwsh"
    },
    "vscode": {
     "languageId": "polyglot-notebook"
    }
   },
   "outputs": [
    {
     "name": "stdout",
     "output_type": "stream",
     "text": [
      "True System.Boolean\r\n"
     ]
    }
   ],
   "source": [
    "[boolean]$PhoneNumber = 5551212\n",
    "Write-Host $PhoneNumber $PhoneNumber.GetType()"
   ]
  },
  {
   "cell_type": "code",
   "execution_count": 15,
   "id": "7dd4ff05",
   "metadata": {
    "dotnet_interactive": {
     "language": "pwsh"
    },
    "polyglot_notebook": {
     "kernelName": "pwsh"
    },
    "vscode": {
     "languageId": "polyglot-notebook"
    }
   },
   "outputs": [
    {
     "name": "stdout",
     "output_type": "stream",
     "text": [
      "False\n",
      "False\n",
      "True\n"
     ]
    }
   ],
   "source": [
    "[boolean](0)\n",
    "[boolean](\"\")\n",
    "[boolean](0.0)\n"
   ]
  },
  {
   "cell_type": "code",
   "execution_count": 19,
   "id": "1d2d7471",
   "metadata": {
    "dotnet_interactive": {
     "language": "pwsh"
    },
    "polyglot_notebook": {
     "kernelName": "pwsh"
    },
    "vscode": {
     "languageId": "polyglot-notebook"
    }
   },
   "outputs": [
    {
     "name": "stdout",
     "output_type": "stream",
     "text": [
      "3346853265408\r\n"
     ]
    }
   ],
   "source": [
    "# datatype multiplier\n",
    "45gb + 3tb"
   ]
  },
  {
   "cell_type": "code",
   "execution_count": 21,
   "id": "ff556cc0",
   "metadata": {
    "dotnet_interactive": {
     "language": "pwsh"
    },
    "polyglot_notebook": {
     "kernelName": "pwsh"
    },
    "vscode": {
     "languageId": "polyglot-notebook"
    }
   },
   "outputs": [
    {
     "name": "stdout",
     "output_type": "stream",
     "text": [
      "36 TB\r\n"
     ]
    }
   ],
   "source": [
    "# go the other way\n",
    "$HardDrive = 36tb\n",
    "Write-Host ($HardDrive / 1tb) \"TB\""
   ]
  },
  {
   "cell_type": "code",
   "execution_count": 26,
   "id": "c0bcf6e3",
   "metadata": {
    "dotnet_interactive": {
     "language": "pwsh"
    },
    "polyglot_notebook": {
     "kernelName": "pwsh"
    },
    "vscode": {
     "languageId": "polyglot-notebook"
    }
   },
   "outputs": [
    {
     "name": "stdout",
     "output_type": "stream",
     "text": [
      "3\n",
      "4\n",
      "4\n",
      "5\n",
      "3.33333333333333\n",
      "3\n",
      "1\n"
     ]
    }
   ],
   "source": [
    "# math operations\n",
    "1 + 2\n",
    "2 * 2\n",
    "10 - 6\n",
    "100 / 20\n",
    "10 / 3\n",
    "[int](10 / 3)\n",
    "10 % 3 # modulus division gives the remainder of a division"
   ]
  },
  {
   "cell_type": "code",
   "execution_count": null,
   "id": "11201eed",
   "metadata": {
    "dotnet_interactive": {
     "language": "pwsh"
    },
    "polyglot_notebook": {
     "kernelName": "pwsh"
    },
    "vscode": {
     "languageId": "polyglot-notebook"
    }
   },
   "outputs": [],
   "source": [
    "# order of operations\n",
    "2 * 2 + 6^2 / (4 - 32)"
   ]
  },
  {
   "cell_type": "code",
   "execution_count": 27,
   "id": "fe20019a",
   "metadata": {
    "dotnet_interactive": {
     "language": "pwsh"
    },
    "polyglot_notebook": {
     "kernelName": "pwsh"
    },
    "vscode": {
     "languageId": "polyglot-notebook"
    }
   },
   "outputs": [
    {
     "name": "stdout",
     "output_type": "stream",
     "text": [
      "36\r\n"
     ]
    }
   ],
   "source": [
    "# exponents\n",
    "[Math]::pow(6, 2)"
   ]
  },
  {
   "cell_type": "code",
   "execution_count": 1,
   "id": "997014ab",
   "metadata": {
    "dotnet_interactive": {
     "language": "pwsh"
    },
    "polyglot_notebook": {
     "kernelName": "pwsh"
    },
    "vscode": {
     "languageId": "polyglot-notebook"
    }
   },
   "outputs": [
    {
     "name": "stdout",
     "output_type": "stream",
     "text": [
      "2.71428571428571\r\n"
     ]
    }
   ],
   "source": [
    "2 * 2 + [Math]::pow(6, 2) / (4 - 32)"
   ]
  },
  {
   "cell_type": "code",
   "execution_count": 2,
   "metadata": {
    "dotnet_interactive": {
     "language": "pwsh"
    },
    "polyglot_notebook": {
     "kernelName": "pwsh"
    },
    "vscode": {
     "languageId": "polyglot-notebook"
    }
   },
   "outputs": [
    {
     "name": "stdout",
     "output_type": "stream",
     "text": [
      "\n",
      "   TypeName: System.Math\n",
      "\n",
      "\u001b[32;1mName                   MemberType Definition\u001b[0m\n",
      "\u001b[32;1m----                   ---------- ----------\u001b[0m\n",
      "Abs                    Method     static short Abs(short value), static int Abs(int value), static…\n",
      "Acos                   Method     static double Acos(double d)\n",
      "Acosh                  Method     static double Acosh(double d)\n",
      "Asin                   Method     static double Asin(double d)\n",
      "Asinh                  Method     static double Asinh(double d)\n",
      "Atan                   Method     static double Atan(double d)\n",
      "Atan2                  Method     static double Atan2(double y, double x)\n",
      "Atanh                  Method     static double Atanh(double d)\n",
      "BigMul                 Method     static long BigMul(int a, int b), static ulong BigMul(ulong a, u…\n",
      "BitDecrement           Method     static double BitDecrement(double x)\n",
      "BitIncrement           Method     static double BitIncrement(double x)\n",
      "Cbrt                   Method     static double Cbrt(double d)\n",
      "Ceiling                Method     static double Ceiling(double a), static decimal Ceiling(decimal …\n",
      "Clamp                  Method     static byte Clamp(byte value, byte min, byte max), static decima…\n",
      "CopySign               Method     static double CopySign(double x, double y)\n",
      "Cos                    Method     static double Cos(double d)\n",
      "Cosh                   Method     static double Cosh(double value)\n",
      "DivRem                 Method     static int DivRem(int a, int b, [ref] int result), static long D…\n",
      "Equals                 Method     static bool Equals(System.Object objA, System.Object objB)\n",
      "Exp                    Method     static double Exp(double d)\n",
      "Floor                  Method     static double Floor(double d), static decimal Floor(decimal d)\n",
      "FusedMultiplyAdd       Method     static double FusedMultiplyAdd(double x, double y, double z)\n",
      "IEEERemainder          Method     static double IEEERemainder(double x, double y)\n",
      "ILogB                  Method     static int ILogB(double x)\n",
      "Log                    Method     static double Log(double d), static double Log(double a, double …\n",
      "Log10                  Method     static double Log10(double d)\n",
      "Log2                   Method     static double Log2(double x)\n",
      "Max                    Method     static byte Max(byte val1, byte val2), static decimal Max(decima…\n",
      "MaxMagnitude           Method     static double MaxMagnitude(double x, double y)\n",
      "Min                    Method     static byte Min(byte val1, byte val2), static decimal Min(decima…\n",
      "MinMagnitude           Method     static double MinMagnitude(double x, double y)\n",
      "Pow                    Method     static double Pow(double x, double y)\n",
      "ReciprocalEstimate     Method     static double ReciprocalEstimate(double d)\n",
      "ReciprocalSqrtEstimate Method     static double ReciprocalSqrtEstimate(double d)\n",
      "ReferenceEquals        Method     static bool ReferenceEquals(System.Object objA, System.Object ob…\n",
      "Round                  Method     static decimal Round(decimal d), static decimal Round(decimal d,…\n",
      "ScaleB                 Method     static double ScaleB(double x, int n)\n",
      "Sign                   Method     static int Sign(decimal value), static int Sign(double value), s…\n",
      "Sin                    Method     static double Sin(double a)\n",
      "SinCos                 Method     static System.ValueTuple[double,double] SinCos(double x)\n",
      "Sinh                   Method     static double Sinh(double value)\n",
      "Sqrt                   Method     static double Sqrt(double d)\n",
      "Tan                    Method     static double Tan(double a)\n",
      "Tanh                   Method     static double Tanh(double value)\n",
      "Truncate               Method     static decimal Truncate(decimal d), static double Truncate(doubl…\n",
      "E                      Property   static double E {get;}\n",
      "PI                     Property   static double PI {get;}\n",
      "Tau                    Property   static double Tau {get;}\n",
      "\n"
     ]
    }
   ],
   "source": [
    "[Math] | Get-Member -Static"
   ]
  },
  {
   "cell_type": "code",
   "execution_count": 4,
   "metadata": {
    "dotnet_interactive": {
     "language": "pwsh"
    },
    "polyglot_notebook": {
     "kernelName": "pwsh"
    },
    "vscode": {
     "languageId": "polyglot-notebook"
    }
   },
   "outputs": [
    {
     "name": "stdout",
     "output_type": "stream",
     "text": [
      "3.14159265358979\r\n"
     ]
    }
   ],
   "source": [
    "[Math]::PI"
   ]
  },
  {
   "cell_type": "code",
   "execution_count": 5,
   "metadata": {
    "dotnet_interactive": {
     "language": "pwsh"
    },
    "polyglot_notebook": {
     "kernelName": "pwsh"
    },
    "vscode": {
     "languageId": "polyglot-notebook"
    }
   },
   "outputs": [
    {
     "name": "stdout",
     "output_type": "stream",
     "text": [
      "9.42477796076938\r\n"
     ]
    }
   ],
   "source": [
    "[Math]::PI * 3"
   ]
  },
  {
   "cell_type": "code",
   "execution_count": 8,
   "metadata": {
    "dotnet_interactive": {
     "language": "pwsh"
    },
    "polyglot_notebook": {
     "kernelName": "pwsh"
    },
    "vscode": {
     "languageId": "polyglot-notebook"
    }
   },
   "outputs": [
    {
     "name": "stdout",
     "output_type": "stream",
     "text": [
      "5\r\n"
     ]
    }
   ],
   "source": [
    "[Math]::Sqrt(25)"
   ]
  },
  {
   "cell_type": "code",
   "execution_count": 15,
   "metadata": {
    "dotnet_interactive": {
     "language": "pwsh"
    },
    "polyglot_notebook": {
     "kernelName": "pwsh"
    },
    "vscode": {
     "languageId": "polyglot-notebook"
    }
   },
   "outputs": [
    {
     "name": "stdout",
     "output_type": "stream",
     "text": [
      "4\n",
      "4.71238898038469\n"
     ]
    }
   ],
   "source": [
    "$Calculation = [Math]::PI * 3 / 2\n",
    "[Math]::Floor($Calculation)\n",
    "$Calculation"
   ]
  },
  {
   "cell_type": "code",
   "execution_count": 16,
   "metadata": {
    "dotnet_interactive": {
     "language": "pwsh"
    },
    "polyglot_notebook": {
     "kernelName": "pwsh"
    },
    "vscode": {
     "languageId": "polyglot-notebook"
    }
   },
   "outputs": [
    {
     "name": "stdout",
     "output_type": "stream",
     "text": [
      "5\n",
      "4.71238898038469\n"
     ]
    }
   ],
   "source": [
    "$Calculation = [Math]::PI * 3 / 2\n",
    "[Math]::Ceiling($Calculation)\n",
    "$Calculation"
   ]
  },
  {
   "cell_type": "code",
   "execution_count": 18,
   "metadata": {
    "dotnet_interactive": {
     "language": "pwsh"
    },
    "polyglot_notebook": {
     "kernelName": "pwsh"
    },
    "vscode": {
     "languageId": "polyglot-notebook"
    }
   },
   "outputs": [
    {
     "name": "stdout",
     "output_type": "stream",
     "text": [
      "4.71\n",
      "4.71238898038469\n"
     ]
    }
   ],
   "source": [
    "$Calculation = [Math]::PI * 3 / 2\n",
    "[Math]::Round($Calculation, 2)\n",
    "$Calculation"
   ]
  },
  {
   "cell_type": "code",
   "execution_count": 30,
   "metadata": {
    "dotnet_interactive": {
     "language": "pwsh"
    },
    "polyglot_notebook": {
     "kernelName": "pwsh"
    },
    "vscode": {
     "languageId": "polyglot-notebook"
    }
   },
   "outputs": [
    {
     "name": "stdout",
     "output_type": "stream",
     "text": [
      "5\r\n"
     ]
    }
   ],
   "source": [
    "$Sum = 1 + 2\n",
    "$Sum = $Sum + 1\n",
    "$Sum += 1\n",
    "$Sum++\n",
    "++$Sum\n",
    "$Sum--\n",
    "--$Sum\n",
    "$Sum"
   ]
  },
  {
   "cell_type": "code",
   "execution_count": 27,
   "metadata": {
    "dotnet_interactive": {
     "language": "pwsh"
    },
    "polyglot_notebook": {
     "kernelName": "pwsh"
    },
    "vscode": {
     "languageId": "polyglot-notebook"
    }
   },
   "outputs": [
    {
     "name": "stdout",
     "output_type": "stream",
     "text": [
      "4\r\n"
     ]
    }
   ],
   "source": [
    "$Sum = 1 * 2\n",
    "$Sum = $Sum * 1\n",
    "$Sum *= 2\n",
    "$Sum"
   ]
  },
  {
   "cell_type": "code",
   "execution_count": 32,
   "metadata": {
    "dotnet_interactive": {
     "language": "pwsh"
    },
    "polyglot_notebook": {
     "kernelName": "pwsh"
    },
    "vscode": {
     "languageId": "polyglot-notebook"
    }
   },
   "outputs": [
    {
     "name": "stdout",
     "output_type": "stream",
     "text": [
      "Hello World\r\n"
     ]
    }
   ],
   "source": [
    "# create a string\n",
    "$Text = \"Hello World\"\n",
    "$Text"
   ]
  },
  {
   "cell_type": "code",
   "execution_count": 33,
   "metadata": {
    "dotnet_interactive": {
     "language": "pwsh"
    },
    "polyglot_notebook": {
     "kernelName": "pwsh"
    },
    "vscode": {
     "languageId": "polyglot-notebook"
    }
   },
   "outputs": [
    {
     "name": "stdout",
     "output_type": "stream",
     "text": [
      "HelloWorld\r\n"
     ]
    }
   ],
   "source": [
    "# concatenate strings\n",
    "$Text = \"Hello\" + \"World\"\n",
    "$Text"
   ]
  },
  {
   "cell_type": "code",
   "execution_count": 34,
   "metadata": {
    "dotnet_interactive": {
     "language": "pwsh"
    },
    "polyglot_notebook": {
     "kernelName": "pwsh"
    },
    "vscode": {
     "languageId": "polyglot-notebook"
    }
   },
   "outputs": [
    {
     "name": "stdout",
     "output_type": "stream",
     "text": [
      "Price: 123.45\r\n"
     ]
    }
   ],
   "source": [
    "# concatenate strings and numbers\n",
    "$Price = \"Price: \" + 123.45\n",
    "$Price"
   ]
  },
  {
   "cell_type": "code",
   "execution_count": 36,
   "metadata": {
    "dotnet_interactive": {
     "language": "pwsh"
    },
    "polyglot_notebook": {
     "kernelName": "pwsh"
    },
    "vscode": {
     "languageId": "polyglot-notebook"
    }
   },
   "outputs": [
    {
     "name": "stdout",
     "output_type": "stream",
     "text": [
      "\u001b[31;1mInvalidArgument: \u001b[0m\n",
      "\u001b[31;1m\u001b[36;1mLine |\u001b[0m\n",
      "\u001b[31;1m\u001b[36;1m\u001b[36;1m   2 | \u001b[0m \u001b[36;1m$Address = 5685 + \"Leeds St.\"\u001b[0m\n",
      "\u001b[31;1m\u001b[36;1m\u001b[36;1m\u001b[0m\u001b[36;1m\u001b[0m\u001b[36;1m     | \u001b[31;1m ~~~~~~~~~~~~~~~~~~~~~~~~~~~~~\u001b[0m\n",
      "\u001b[31;1m\u001b[36;1m\u001b[36;1m\u001b[0m\u001b[36;1m\u001b[0m\u001b[36;1m\u001b[31;1m\u001b[31;1m\u001b[36;1m     | \u001b[31;1mCannot convert value \"Leeds St.\" to type \"System.Int32\". Error: \"The input string 'Leeds St.' was not in a correct format.\"\u001b[0m\n"
     ]
    }
   ],
   "source": [
    "# concatenate numbers and strings (adding!)\n",
    "# ERROR! because it can't convert \"Leeds St.\" into a number\n",
    "$Address = 5685 + \"Leeds St.\"\n",
    "$Address"
   ]
  },
  {
   "cell_type": "code",
   "execution_count": 39,
   "metadata": {
    "dotnet_interactive": {
     "language": "pwsh"
    },
    "polyglot_notebook": {
     "kernelName": "pwsh"
    },
    "vscode": {
     "languageId": "polyglot-notebook"
    }
   },
   "outputs": [
    {
     "name": "stdout",
     "output_type": "stream",
     "text": [
      "Sum = 3\r\n"
     ]
    }
   ],
   "source": [
    "# concatenate a string and a calculation\n",
    "$Answer = \"Sum = \" + (1 + 2)\n",
    "$Answer"
   ]
  },
  {
   "cell_type": "code",
   "execution_count": 41,
   "metadata": {
    "dotnet_interactive": {
     "language": "pwsh"
    },
    "polyglot_notebook": {
     "kernelName": "pwsh"
    },
    "vscode": {
     "languageId": "polyglot-notebook"
    }
   },
   "outputs": [
    {
     "name": "stdout",
     "output_type": "stream",
     "text": [
      "Sum = 3, Diff = -1, Product = 2\r\n"
     ]
    }
   ],
   "source": [
    "# large statement\n",
    "$Answer = \"Sum = \" + (1 + 2) + \", Diff = \" + (1 - 2) + \", Product = \" + (1 * 2)\n",
    "$Answer"
   ]
  },
  {
   "cell_type": "code",
   "execution_count": 42,
   "metadata": {
    "dotnet_interactive": {
     "language": "pwsh"
    },
    "polyglot_notebook": {
     "kernelName": "pwsh"
    },
    "vscode": {
     "languageId": "polyglot-notebook"
    }
   },
   "outputs": [
    {
     "name": "stdout",
     "output_type": "stream",
     "text": [
      "Sum = 3, Diff = -1, Product = 2\r\n"
     ]
    }
   ],
   "source": [
    "# formatted strings\n",
    "$Answer = \"Sum = {0}, Diff = {1}, Product = {2}\" -f (1 + 2), (1 - 2), (1 * 2)\n",
    "$Answer"
   ]
  },
  {
   "cell_type": "code",
   "execution_count": 44,
   "metadata": {
    "dotnet_interactive": {
     "language": "pwsh"
    },
    "polyglot_notebook": {
     "kernelName": "pwsh"
    },
    "vscode": {
     "languageId": "polyglot-notebook"
    }
   },
   "outputs": [
    {
     "name": "stdout",
     "output_type": "stream",
     "text": [
      "Sum = 3, Diff = -1, Product = 2\r\n"
     ]
    }
   ],
   "source": [
    "# formatted string + Write-Host\n",
    "Write-Host (\"Sum = {0}, Diff = {1}, Product = {2}\" -f (1 + 2), (1 - 2), (1 * 2))"
   ]
  },
  {
   "cell_type": "code",
   "execution_count": 45,
   "metadata": {
    "dotnet_interactive": {
     "language": "pwsh"
    },
    "polyglot_notebook": {
     "kernelName": "pwsh"
    },
    "vscode": {
     "languageId": "polyglot-notebook"
    }
   },
   "outputs": [
    {
     "name": "stdout",
     "output_type": "stream",
     "text": [
      "Sum = 3, Diff = -1, Product = 2\r\n"
     ]
    }
   ],
   "source": [
    "# formatted string + Write-Host\n",
    "$Sum = 1 + 2\n",
    "$Difference = 1 - 2\n",
    "$Product = 1 * 2\n",
    "Write-Host (\"Sum = {0}, Diff = {1}, Product = {2}\" -f $Sum, $Difference, $Product)"
   ]
  },
  {
   "cell_type": "code",
   "execution_count": 46,
   "metadata": {
    "dotnet_interactive": {
     "language": "pwsh"
    },
    "polyglot_notebook": {
     "kernelName": "pwsh"
    },
    "vscode": {
     "languageId": "polyglot-notebook"
    }
   },
   "outputs": [
    {
     "name": "stdout",
     "output_type": "stream",
     "text": [
      "Sum = 3, Diff = -1, Product = 2\r\n"
     ]
    }
   ],
   "source": [
    "# formatted string + Write-Host\n",
    "$Sum = 1 + 2\n",
    "$Difference = 1 - 2\n",
    "$Product = 1 * 2\n",
    "Write-Host \"Sum = $Sum, Diff = $Difference, Product = $Product\""
   ]
  },
  {
   "cell_type": "code",
   "execution_count": 50,
   "metadata": {
    "dotnet_interactive": {
     "language": "pwsh"
    },
    "polyglot_notebook": {
     "kernelName": "pwsh"
    },
    "vscode": {
     "languageId": "polyglot-notebook"
    }
   },
   "outputs": [
    {
     "name": "stdout",
     "output_type": "stream",
     "text": [
      "dog\n",
      "dog\n",
      "cat dog mouse\n",
      "catmouse\n"
     ]
    }
   ],
   "source": [
    "# substrings\n",
    "\"cat dog mouse\".Substring(4, 3)\n",
    "$Animals = \"cat dog mouse\"\n",
    "$Animals.Substring(4, 3)\n",
    "$Animals\n",
    "$Animals.Substring(0, 3) + $Animals.Substring(8, 5)"
   ]
  },
  {
   "cell_type": "code",
   "execution_count": 54,
   "metadata": {
    "dotnet_interactive": {
     "language": "pwsh"
    },
    "polyglot_notebook": {
     "kernelName": "pwsh"
    },
    "vscode": {
     "languageId": "polyglot-notebook"
    }
   },
   "outputs": [
    {
     "name": "stdout",
     "output_type": "stream",
     "text": [
      "Row Row Row Your Boat\r\n"
     ]
    }
   ],
   "source": [
    "# replication operator\n",
    "$Song = \"Row \" * 3\n",
    "$Song + \"Your Boat\""
   ]
  },
  {
   "cell_type": "code",
   "execution_count": null,
   "id": "a8e9bab0",
   "metadata": {
    "vscode": {
     "languageId": "polyglot-notebook"
    }
   },
   "outputs": [],
   "source": []
  }
 ],
 "metadata": {
  "language_info": {
   "name": "python"
  },
  "polyglot_notebook": {
   "kernelInfo": {
    "defaultKernelName": "pwsh",
    "items": [
     {
      "aliases": [],
      "name": "pwsh"
     }
    ]
   }
  }
 },
 "nbformat": 4,
 "nbformat_minor": 5
}
